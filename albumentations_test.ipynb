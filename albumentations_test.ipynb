{
  "nbformat": 4,
  "nbformat_minor": 0,
  "metadata": {
    "colab": {
      "name": "albumentations_test.ipynb",
      "provenance": [],
      "collapsed_sections": [],
      "toc_visible": true,
      "mount_file_id": "1qxt7Mb-BDqffd_3JtkUA95NHUJ5QPEA4",
      "authorship_tag": "ABX9TyMTxIX55SZ3ozABznG9kbOy",
      "include_colab_link": true
    },
    "kernelspec": {
      "name": "python3",
      "display_name": "Python 3"
    }
  },
  "cells": [
    {
      "cell_type": "markdown",
      "metadata": {
        "id": "view-in-github",
        "colab_type": "text"
      },
      "source": [
        "<a href=\"https://colab.research.google.com/github/tkuri/CGIntrinsics/blob/master/albumentations_test.ipynb\" target=\"_parent\"><img src=\"https://colab.research.google.com/assets/colab-badge.svg\" alt=\"Open In Colab\"/></a>"
      ]
    },
    {
      "cell_type": "markdown",
      "metadata": {
        "id": "zdBofmu9IojN",
        "colab_type": "text"
      },
      "source": [
        "# Load Image"
      ]
    },
    {
      "cell_type": "code",
      "metadata": {
        "id": "FQWys55fhVaz",
        "colab_type": "code",
        "colab": {}
      },
      "source": [
        "!pip install -U albumentations\n",
        "import matplotlib.pyplot as plt\n",
        "import albumentations as A\n",
        "import numpy as np\n",
        "import cv2\n",
        "%matplotlib inline\n",
        "\n",
        "img_path = '/content/drive/My Drive/Colabdata/test/test.jpg'\n",
        "# img_path = 'test.jpg'\n",
        "\n",
        "img = cv2.imread(img_path, cv2.IMREAD_COLOR)\n",
        "img = cv2.cvtColor(img, cv2.COLOR_BGR2RGB).astype(np.uint8)\n",
        "plt.imshow(img)"
      ],
      "execution_count": null,
      "outputs": []
    },
    {
      "cell_type": "markdown",
      "metadata": {
        "id": "ZZD1Nbfs6mv1",
        "colab_type": "text"
      },
      "source": [
        "# ボカす系 (Blur)"
      ]
    },
    {
      "cell_type": "markdown",
      "metadata": {
        "id": "bN0G0Ea31MzS",
        "colab_type": "text"
      },
      "source": [
        "## Blur\n",
        "### Blur the input image using a random-sized kernel.\n",
        "### ランダムサイズのカーネルでボカす\n",
        "* blur_limit: maximum kernel size for blurring the input image. (最大カーネルサイズ), Default: (3, 7)"
      ]
    },
    {
      "cell_type": "code",
      "metadata": {
        "id": "v7DRtDHr8Ws8",
        "colab_type": "code",
        "colab": {}
      },
      "source": [
        "a = A.Blur(p=1)(image=img)\n",
        "plt.imshow(a['image'])"
      ],
      "execution_count": null,
      "outputs": []
    },
    {
      "cell_type": "code",
      "metadata": {
        "id": "-HUMXLiD2IGF",
        "colab_type": "code",
        "colab": {}
      },
      "source": [
        "aug = []\n",
        "n = 3\n",
        "param1 = (1, 20)\n",
        "param2 = (16, 16)\n",
        "aug.append(A.Compose([A.Blur(p=1)]))\n",
        "aug.append(A.Compose([A.Blur(blur_limit=param1, p=1)]))\n",
        "aug.append(A.Compose([A.Blur(blur_limit=param2, p=1)]))\n",
        "aug_img = [aug[i](image=img) for i in range(n)]\n",
        "\n",
        "fig, ax = plt.subplots(1, 1+n, figsize=(5+5*n, 5))\n",
        "plt.subplots_adjust(wspace=0)\n",
        "plt.rcParams[\"font.size\"] = 18\n",
        "[ax[i].tick_params(bottom=False, left=False, right=False, top=False, labelbottom=False, labelleft=False, labelright=False, labeltop=False) for i in range(1+n)]\n",
        "\n",
        "ax[0].set_xlabel(\"Original\")\n",
        "ax[1].set_xlabel(\"Default Augmentation\")\n",
        "ax[2].set_xlabel(\"blur_limit={}\".format(param1))\n",
        "ax[3].set_xlabel(\"blur_limit={}\".format(param2))\n",
        "\n",
        "ax[0].imshow(img)\n",
        "[ax[i+1].imshow(aug_img[i]['image']) for i in range(n)]"
      ],
      "execution_count": null,
      "outputs": []
    },
    {
      "cell_type": "markdown",
      "metadata": {
        "id": "PQ0YjnJBhVCZ",
        "colab_type": "text"
      },
      "source": [
        "## MotionBlur\n",
        "### Apply motion blur to the input image using a random-sized kernel.\n",
        "### ランダムなカーネルサイズでモーションブラー(ボックスフィルタ)をかける\n",
        "* blur_limit (int) – maximum kernel size for blurring the input image. Should be in range [3, inf). Default: (3, 7).\n",
        " * ブラーの最大カーネルサイズ"
      ]
    },
    {
      "cell_type": "code",
      "metadata": {
        "id": "KCPTe1h1hrpz",
        "colab_type": "code",
        "colab": {}
      },
      "source": [
        "aug = []\n",
        "n = 3\n",
        "param1 = (15, 17)\n",
        "param2 = (31, 33)\n",
        "aug.append(A.Compose([A.MotionBlur(p=1)]))\n",
        "aug.append(A.Compose([A.MotionBlur(blur_limit=param1, p=1)]))\n",
        "aug.append(A.Compose([A.MotionBlur(blur_limit=param2, p=1)]))\n",
        "aug_img = [aug[i](image=img) for i in range(n)]\n",
        "\n",
        "fig, ax = plt.subplots(1, 1+n, figsize=(5+5*n, 5))\n",
        "plt.subplots_adjust(wspace=0)\n",
        "plt.rcParams[\"font.size\"] = 18\n",
        "[ax[i].tick_params(bottom=False, left=False, right=False, top=False, labelbottom=False, labelleft=False, labelright=False, labeltop=False) for i in range(1+n)]\n",
        "\n",
        "ax[0].set_xlabel(\"Original\")\n",
        "ax[1].set_xlabel(\"Default Augmentation\")\n",
        "ax[2].set_xlabel(\"blur_limit={}\".format(param1))\n",
        "ax[3].set_xlabel(\"blur_limit={}\".format(param2))\n",
        "\n",
        "ax[0].imshow(img)\n",
        "[ax[i+1].imshow(aug_img[i]['image']) for i in range(n)]"
      ],
      "execution_count": null,
      "outputs": []
    },
    {
      "cell_type": "markdown",
      "metadata": {
        "id": "HW15Qr92DTKY",
        "colab_type": "text"
      },
      "source": [
        "## GaussianBlur\n",
        "### Blur the input image using using a Gaussian filter with a random kernel size.\n",
        "### ランダムなカーネルサイズでガウシアンフィルタをかける\n",
        "* blur_limit (int) – maximum Gaussian kernel size for blurring the input image. Must be zero or odd and in range [3, inf). Default: (3, 7).\n",
        " * ブラーをかけるカーネルサイズの最大値、奇数である必要がある"
      ]
    },
    {
      "cell_type": "code",
      "metadata": {
        "id": "sDxv_hJLDt2_",
        "colab_type": "code",
        "colab": {}
      },
      "source": [
        "aug = []\n",
        "n = 3\n",
        "param1 = (15, 17)\n",
        "param2 = (31, 33)\n",
        "aug.append(A.Compose([A.GaussianBlur(p=1)]))\n",
        "aug.append(A.Compose([A.GaussianBlur(blur_limit=param1, p=1)]))\n",
        "aug.append(A.Compose([A.GaussianBlur(blur_limit=param2, p=1)]))\n",
        "aug_img = [aug[i](image=img) for i in range(n)]\n",
        "\n",
        "fig, ax = plt.subplots(1, 1+n, figsize=(5+5*n, 5))\n",
        "plt.subplots_adjust(wspace=0)\n",
        "plt.rcParams[\"font.size\"] = 18\n",
        "[ax[i].tick_params(bottom=False, left=False, right=False, top=False, labelbottom=False, labelleft=False, labelright=False, labeltop=False) for i in range(1+n)]\n",
        "\n",
        "ax[0].set_xlabel(\"Original\")\n",
        "ax[1].set_xlabel(\"Default Augmentation\")\n",
        "ax[2].set_xlabel(\"blur_limit={}\".format(param1))\n",
        "ax[3].set_xlabel(\"blur_limit={}\".format(param2))\n",
        "\n",
        "ax[0].imshow(img)\n",
        "[ax[i+1].imshow(aug_img[i]['image']) for i in range(n)]"
      ],
      "execution_count": null,
      "outputs": []
    },
    {
      "cell_type": "markdown",
      "metadata": {
        "id": "CZ-8V-xLiNmw",
        "colab_type": "text"
      },
      "source": [
        "## MedianBlur\n",
        "### Blur the input image using using a median filter with a random aperture linear size.\n",
        "### ランダムなカーネルサイズでメディアンフィルタをかける\n",
        "* blur_limit (int) – maximum aperture linear size for blurring the input image. Must be odd and in range [3, inf). Default: (3, 7).\n",
        " * ブラーをかけるカーネルサイズの最大値、奇数である必要がある"
      ]
    },
    {
      "cell_type": "code",
      "metadata": {
        "id": "1yVLGihvip0u",
        "colab_type": "code",
        "colab": {}
      },
      "source": [
        "aug = []\n",
        "n = 3\n",
        "param1 = (15, 17)\n",
        "param2 = (31, 33)\n",
        "aug.append(A.Compose([A.MotionBlur(p=1)]))\n",
        "aug.append(A.Compose([A.MedianBlur(blur_limit=param1, p=1)]))\n",
        "aug.append(A.Compose([A.MedianBlur(blur_limit=param2, p=1)]))\n",
        "aug_img = [aug[i](image=img) for i in range(n)]\n",
        "\n",
        "fig, ax = plt.subplots(1, 1+n, figsize=(5+5*n, 5))\n",
        "plt.subplots_adjust(wspace=0)\n",
        "plt.rcParams[\"font.size\"] = 18\n",
        "[ax[i].tick_params(bottom=False, left=False, right=False, top=False, labelbottom=False, labelleft=False, labelright=False, labeltop=False) for i in range(1+n)]\n",
        "\n",
        "ax[0].set_xlabel(\"Original\")\n",
        "ax[1].set_xlabel(\"Default Augmentation\")\n",
        "ax[2].set_xlabel(\"blur_limit={}\".format(param1))\n",
        "ax[3].set_xlabel(\"blur_limit={}\".format(param2))\n",
        "\n",
        "ax[0].imshow(img)\n",
        "[ax[i+1].imshow(aug_img[i]['image']) for i in range(n)]"
      ],
      "execution_count": null,
      "outputs": []
    },
    {
      "cell_type": "markdown",
      "metadata": {
        "id": "5gI6YoshHz8u",
        "colab_type": "text"
      },
      "source": [
        "## GlassBlur\n",
        "### Apply glass noise to the input image.\n",
        "### グラスノイズ(曇りガラスのような効果)を付加\n",
        "* sigma (float) – standard deviation for Gaussian kernel. Defalt: 0.7.\n",
        " * ガウシアンカーネルの標準偏差\n",
        "* max_delta (int) – max distance between pixels which are swapped. Defalt: 4.\n",
        " * スワップされる画素間の最大距離\n",
        "* iterations (int) – number of repeats. Should be in range [1, inf). Default: (2).\n",
        " * リピート回数\n",
        "* mode (str) – mode of computation: fast or exact. Default: “fast”.\n",
        " * 計算モード"
      ]
    },
    {
      "cell_type": "code",
      "metadata": {
        "id": "4BpcWjIENTSq",
        "colab_type": "code",
        "colab": {}
      },
      "source": [
        "aug = []\n",
        "n = 3\n",
        "param1 = 4\n",
        "param2 = 10\n",
        "aug.append(A.Compose([A.GlassBlur(p=1)]))\n",
        "aug.append(A.Compose([A.GlassBlur(sigma=param1, p=1)]))\n",
        "aug.append(A.Compose([A.GlassBlur(max_delta=param2, p=1)]))\n",
        "aug_img = [aug[i](image=img) for i in range(n)]\n",
        "\n",
        "fig, ax = plt.subplots(1, 1+n, figsize=(5+5*n, 5))\n",
        "plt.subplots_adjust(wspace=0)\n",
        "plt.rcParams[\"font.size\"] = 18\n",
        "[ax[i].tick_params(bottom=False, left=False, right=False, top=False, labelbottom=False, labelleft=False, labelright=False, labeltop=False) for i in range(1+n)]\n",
        "\n",
        "ax[0].set_xlabel(\"Original\")\n",
        "ax[1].set_xlabel(\"Default Augmentation\")\n",
        "ax[2].set_xlabel(\"sigma={}\".format(param1))\n",
        "ax[3].set_xlabel(\"max_delta={}\".format(param2))\n",
        "\n",
        "ax[0].imshow(img)\n",
        "[ax[i+1].imshow(aug_img[i]['image']) for i in range(n)]"
      ],
      "execution_count": null,
      "outputs": []
    },
    {
      "cell_type": "markdown",
      "metadata": {
        "id": "fhrJQyoB7b3B",
        "colab_type": "text"
      },
      "source": [
        "# ノイズ系 (Noise, Compression)"
      ]
    },
    {
      "cell_type": "markdown",
      "metadata": {
        "id": "AVK7-jteEN8c",
        "colab_type": "text"
      },
      "source": [
        "## GaussNoise\n",
        "### Apply gaussian noise to the input image.\n",
        "### ガウスノイズを付加\n",
        "* var_limit ((float, float) or float) – variance range for noise. If var_limit is a single float, the range will be (0, var_limit). Default: (10.0, 50.0).\n",
        " * ノイズ分散\n",
        "* mean (float) – mean of the noise. Default: 0\n",
        " * ノイズ平均"
      ]
    },
    {
      "cell_type": "code",
      "metadata": {
        "id": "0ELX8W2wGink",
        "colab_type": "code",
        "colab": {}
      },
      "source": [
        "aug = []\n",
        "n = 3\n",
        "param1 = (10000, 10000)\n",
        "param2 = 100\n",
        "aug.append(A.Compose([A.GaussNoise(p=1)]))\n",
        "aug.append(A.Compose([A.GaussNoise(var_limit=param1, p=1)]))\n",
        "aug.append(A.Compose([A.GaussNoise(mean=param2, p=1)]))\n",
        "aug_img = [aug[i](image=img) for i in range(n)]\n",
        "\n",
        "fig, ax = plt.subplots(1, 1+n, figsize=(5+5*n, 5))\n",
        "plt.subplots_adjust(wspace=0)\n",
        "plt.rcParams[\"font.size\"] = 18\n",
        "[ax[i].tick_params(bottom=False, left=False, right=False, top=False, labelbottom=False, labelleft=False, labelright=False, labeltop=False) for i in range(1+n)]\n",
        "\n",
        "ax[0].set_xlabel(\"Original\")\n",
        "ax[1].set_xlabel(\"Default Augmentation\")\n",
        "ax[2].set_xlabel(\"var_limit={}\".format(param1))\n",
        "ax[3].set_xlabel(\"mean={}\".format(param2))\n",
        "\n",
        "ax[0].imshow(img)\n",
        "[ax[i+1].imshow(aug_img[i]['image']) for i in range(n)]"
      ],
      "execution_count": null,
      "outputs": []
    },
    {
      "cell_type": "markdown",
      "metadata": {
        "id": "yxNtG9cQ-2XK",
        "colab_type": "text"
      },
      "source": [
        "## JpegCompression\n",
        "### Decrease Jpeg compression of an image.\n",
        "### Jpegの圧縮ノイズを適用\n",
        "* quality_lower (float) – lower bound on the jpeg quality. Should be in [0, 100] range\n",
        " - 品質の下限値\n",
        "* quality_upper (float) – upper bound on the jpeg quality. Should be in [0, 100] range\n",
        " - 品質の上限値"
      ]
    },
    {
      "cell_type": "code",
      "metadata": {
        "id": "Uo8PEXRL-M5f",
        "colab_type": "code",
        "colab": {}
      },
      "source": [
        "aug = []\n",
        "n = 3\n",
        "param1 = 1\n",
        "param2 = 5\n",
        "param3 = 20\n",
        "aug.append(A.Compose([A.JpegCompression(quality_lower=param1, quality_upper=param1, p=1)]))\n",
        "aug.append(A.Compose([A.JpegCompression(quality_lower=param2, quality_upper=param2, p=1)]))\n",
        "aug.append(A.Compose([A.JpegCompression(quality_lower=param3, quality_upper=param3, p=1)]))\n",
        "aug_img = [aug[i](image=img) for i in range(n)]\n",
        "\n",
        "fig, ax = plt.subplots(1, 1+n, figsize=(5+5*n, 5))\n",
        "plt.subplots_adjust(wspace=0)\n",
        "plt.rcParams[\"font.size\"] = 18\n",
        "[ax[i].tick_params(bottom=False, left=False, right=False, top=False, labelbottom=False, labelleft=False, labelright=False, labeltop=False) for i in range(1+n)]\n",
        "\n",
        "ax[0].set_xlabel(\"Original\")\n",
        "ax[1].set_xlabel(\"quality={}\".format(param1))\n",
        "ax[2].set_xlabel(\"quality={}\".format(param2))\n",
        "ax[3].set_xlabel(\"quality={}\".format(param3))\n",
        "\n",
        "ax[0].imshow(img)\n",
        "[ax[i+1].imshow(aug_img[i]['image']) for i in range(n)]"
      ],
      "execution_count": null,
      "outputs": []
    },
    {
      "cell_type": "markdown",
      "metadata": {
        "id": "Cryq9Lum-7X0",
        "colab_type": "text"
      },
      "source": [
        "## ImageCompression\n",
        "### Decrease Jpeg, WebP compression of an image.\n",
        "### Jpeg/WebPの圧縮ノイズを適用\n",
        "* quality_lower (float) – lower bound on the jpeg quality. Should be in [0, 100] range\n",
        " - 品質の下限値\n",
        "* quality_upper (float) – upper bound on the jpeg quality. Should be in [0, 100] range\n",
        " - 品質の上限値\n",
        "* compression_type (ImageCompressionType) – should be ImageCompressionType.JPEG or ImageCompressionType.WEBP. Default: ImageCompressionType.JPEG\n",
        " - 圧縮タイプ（JPEG/WEBP）"
      ]
    },
    {
      "cell_type": "code",
      "metadata": {
        "id": "i0ltvtxu_wQP",
        "colab_type": "code",
        "colab": {}
      },
      "source": [
        "aug = []\n",
        "n = 3\n",
        "param1 = 1\n",
        "param2 = 1\n",
        "param3 = 5\n",
        "aug.append(A.Compose([A.ImageCompression(quality_lower=param1, quality_upper=param1, compression_type=A.ImageCompression.ImageCompressionType.JPEG, p=1)]))\n",
        "aug.append(A.Compose([A.ImageCompression(quality_lower=param2, quality_upper=param2, compression_type=A.ImageCompression.ImageCompressionType.WEBP, p=1)]))\n",
        "aug.append(A.Compose([A.ImageCompression(quality_lower=param3, quality_upper=param3, compression_type=A.ImageCompression.ImageCompressionType.WEBP, p=1)]))\n",
        "aug_img = [aug[i](image=img) for i in range(n)]\n",
        "\n",
        "fig, ax = plt.subplots(1, 1+n, figsize=(5+5*n, 5))\n",
        "plt.subplots_adjust(wspace=0)\n",
        "plt.rcParams[\"font.size\"] = 18\n",
        "[ax[i].tick_params(bottom=False, left=False, right=False, top=False, labelbottom=False, labelleft=False, labelright=False, labeltop=False) for i in range(1+n)]\n",
        "\n",
        "ax[0].set_xlabel(\"Original\")\n",
        "ax[1].set_xlabel(\"quality={}, type=JPG\".format(param1))\n",
        "ax[2].set_xlabel(\"quality={}, type=WEBP\".format(param2))\n",
        "ax[3].set_xlabel(\"quality={}, type=WEBP\".format(param3))\n",
        "\n",
        "ax[0].imshow(img)\n",
        "[ax[i+1].imshow(aug_img[i]['image']) for i in range(n)]"
      ],
      "execution_count": null,
      "outputs": []
    },
    {
      "cell_type": "markdown",
      "metadata": {
        "id": "v-OGlW0E009J",
        "colab_type": "text"
      },
      "source": [
        "## ISONoise\n",
        "### Apply camera sensor noise.\n",
        "### カメラセンサーのノイズを付加する\n",
        "* color_shift (float, float) – variance range for color hue change. Measured as a fraction of 360 degree Hue angle in HLS colorspace.\n",
        "* intensity ((float, float) – Multiplicative factor that control strength of color and luminace noise."
      ]
    },
    {
      "cell_type": "code",
      "metadata": {
        "id": "VP3PXgq80vfE",
        "colab_type": "code",
        "colab": {}
      },
      "source": [
        "aug = []\n",
        "n = 3\n",
        "param1 = 1.0\n",
        "param2 = 1.5\n",
        "aug.append(A.Compose([A.ISONoise(p=1)]))\n",
        "aug.append(A.Compose([A.ISONoise(intensity=(param1,param1), p=1)]))\n",
        "aug.append(A.Compose([A.ISONoise(intensity=(param2,param2), p=1)]))\n",
        "aug_img = [aug[i](image=img) for i in range(n)]\n",
        "\n",
        "fig, ax = plt.subplots(1, 1+n, figsize=(5+5*n, 5))\n",
        "plt.subplots_adjust(wspace=0)\n",
        "plt.rcParams[\"font.size\"] = 18\n",
        "[ax[i].tick_params(bottom=False, left=False, right=False, top=False, labelbottom=False, labelleft=False, labelright=False, labeltop=False) for i in range(1+n)]\n",
        "\n",
        "ax[0].set_xlabel(\"Original\")\n",
        "ax[1].set_xlabel(\"Default Augmentation\")\n",
        "ax[2].set_xlabel(\"intensity={}\".format(param1))\n",
        "ax[3].set_xlabel(\"intensity={}\".format(param2))\n",
        "\n",
        "ax[0].imshow(img)\n",
        "[ax[i+1].imshow(aug_img[i]['image']) for i in range(n)]"
      ],
      "execution_count": null,
      "outputs": []
    },
    {
      "cell_type": "markdown",
      "metadata": {
        "id": "ZVyrT6XU4c0Z",
        "colab_type": "text"
      },
      "source": [
        "## MultiplicativeNoise\n",
        "### Multiply image to random number or array of numbers.\n",
        "### 乱数配列と乗算する\n",
        "* multiplier (float or tuple of floats) – If single float image will be multiplied to this number. If tuple of float multiplier will be in range [multiplier[0], multiplier[1]). Default: (0.9, 1.1).\n",
        "* per_channel (bool) – If False, same values for all channels will be used. If True use sample values for each channels. Default False.\n",
        "* elementwise (bool) – If False multiply multiply all pixels in an image with a random value sampled once. If True Multiply image pixels with values that are pixelwise randomly sampled. Defaule: False."
      ]
    },
    {
      "cell_type": "code",
      "metadata": {
        "id": "qrxxrHW84qcV",
        "colab_type": "code",
        "colab": {}
      },
      "source": [
        "aug = []\n",
        "n = 3\n",
        "aug.append(A.Compose([A.MultiplicativeNoise(p=1)]))\n",
        "aug.append(A.Compose([A.MultiplicativeNoise(multiplier=(2,0, 3.0), elementwise=True, p=1)]))\n",
        "aug.append(A.Compose([A.MultiplicativeNoise(multiplier=(2,0, 3.0), elementwise=False, p=1)]))\n",
        "aug_img = [aug[i](image=img) for i in range(n)]\n",
        "\n",
        "fig, ax = plt.subplots(1, 1+n, figsize=(5+5*n, 5))\n",
        "plt.subplots_adjust(wspace=0)\n",
        "plt.rcParams[\"font.size\"] = 18\n",
        "[ax[i].tick_params(bottom=False, left=False, right=False, top=False, labelbottom=False, labelleft=False, labelright=False, labeltop=False) for i in range(1+n)]\n",
        "\n",
        "ax[0].set_xlabel(\"Original\")\n",
        "ax[1].set_xlabel(\"Default Augmentation\")\n",
        "ax[2].set_xlabel(\"multiplier=(2.0,3.0)\")\n",
        "ax[3].set_xlabel(\"multiplier=(2.0,3.0) elementwise\")\n",
        "\n",
        "ax[0].imshow(img)\n",
        "[ax[i+1].imshow(aug_img[i]['image']) for i in range(n)]"
      ],
      "execution_count": null,
      "outputs": []
    },
    {
      "cell_type": "markdown",
      "metadata": {
        "id": "ekWNViIb3hum",
        "colab_type": "text"
      },
      "source": [
        "## Downscale\n",
        "### Decreases image quality by downscaling and upscaling back.\n",
        "### ダウンスケールした後にアップスケールして画質を低下させる\n",
        "* scale_min (float) – lower bound on the image scale. Should be < 1. Default: 0.25.\n",
        "* scale_max (float) – lower bound on the image scale. Should be . Default: 0.25."
      ]
    },
    {
      "cell_type": "code",
      "metadata": {
        "id": "jnwy8K483g3u",
        "colab_type": "code",
        "colab": {}
      },
      "source": [
        "aug = []\n",
        "n = 3\n",
        "param1 = 0.05\n",
        "param2 = 0.1\n",
        "aug.append(A.Compose([A.Downscale(p=1)]))\n",
        "aug.append(A.Compose([A.Downscale(scale_min=param1, scale_max=param1, p=1)]))\n",
        "aug.append(A.Compose([A.Downscale(scale_min=param2, scale_max=param2, p=1)]))\n",
        "aug_img = [aug[i](image=img) for i in range(n)]\n",
        "\n",
        "fig, ax = plt.subplots(1, 1+n, figsize=(5+5*n, 5))\n",
        "plt.subplots_adjust(wspace=0)\n",
        "plt.rcParams[\"font.size\"] = 18\n",
        "[ax[i].tick_params(bottom=False, left=False, right=False, top=False, labelbottom=False, labelleft=False, labelright=False, labeltop=False) for i in range(1+n)]\n",
        "\n",
        "ax[0].set_xlabel(\"Original\")\n",
        "ax[1].set_xlabel(\"Default Augmentation\")\n",
        "ax[2].set_xlabel(\"scale_min={}\".format(param1))\n",
        "ax[3].set_xlabel(\"scale_min={}\".format(param2))\n",
        "\n",
        "ax[0].imshow(img)\n",
        "[ax[i+1].imshow(aug_img[i]['image']) for i in range(n)]"
      ],
      "execution_count": null,
      "outputs": []
    },
    {
      "cell_type": "markdown",
      "metadata": {
        "id": "j3UbOM3k8Pnz",
        "colab_type": "text"
      },
      "source": [
        "# 単純幾何変化系 (Flip, Crop, Rotate, Scale, Transpose)"
      ]
    },
    {
      "cell_type": "markdown",
      "metadata": {
        "id": "nj-Wtmil8Rqy",
        "colab_type": "text"
      },
      "source": [
        "## Flip\n",
        "### Flip the input either horizontally, vertically or both horizontally and vertically.\n",
        "### 水平、垂直、または水平と垂直の両方のどれかにランダムに反転"
      ]
    },
    {
      "cell_type": "code",
      "metadata": {
        "id": "ZGtqkK_u8izp",
        "colab_type": "code",
        "colab": {}
      },
      "source": [
        "aug = []\n",
        "n = 1\n",
        "aug.append(A.Compose([A.Flip(p=1)]))\n",
        "aug_img = [aug[i](image=img) for i in range(n)]\n",
        "\n",
        "fig, ax = plt.subplots(1, 1+n, figsize=(5+5*n, 5))\n",
        "plt.subplots_adjust(wspace=0)\n",
        "plt.rcParams[\"font.size\"] = 18\n",
        "[ax[i].tick_params(bottom=False, left=False, right=False, top=False, labelbottom=False, labelleft=False, labelright=False, labeltop=False) for i in range(1+n)]\n",
        "\n",
        "ax[0].set_xlabel(\"Original\")\n",
        "ax[1].set_xlabel(\"Default Augmentation\")\n",
        "\n",
        "ax[0].imshow(img)\n",
        "[ax[i+1].imshow(aug_img[i]['image']) for i in range(n)]"
      ],
      "execution_count": null,
      "outputs": []
    },
    {
      "cell_type": "markdown",
      "metadata": {
        "id": "gt7kMEWi3ioV",
        "colab_type": "text"
      },
      "source": [
        "## VerticalFlip\n",
        "### Flip the input vertically around the x-axis.\n",
        "### x軸を中心に垂直に反転"
      ]
    },
    {
      "cell_type": "code",
      "metadata": {
        "id": "U1CE4giC3h1n",
        "colab_type": "code",
        "colab": {}
      },
      "source": [
        "aug = []\n",
        "n = 1\n",
        "aug.append(A.Compose([A.VerticalFlip(p=1)]))\n",
        "aug_img = [aug[i](image=img) for i in range(n)]\n",
        "\n",
        "fig, ax = plt.subplots(1, 1+n, figsize=(5+5*n, 5))\n",
        "plt.subplots_adjust(wspace=0)\n",
        "plt.rcParams[\"font.size\"] = 18\n",
        "[ax[i].tick_params(bottom=False, left=False, right=False, top=False, labelbottom=False, labelleft=False, labelright=False, labeltop=False) for i in range(1+n)]\n",
        "\n",
        "ax[0].set_xlabel(\"Original\")\n",
        "ax[1].set_xlabel(\"Default Augmentation\")\n",
        "\n",
        "ax[0].imshow(img)\n",
        "[ax[i+1].imshow(aug_img[i]['image']) for i in range(n)]"
      ],
      "execution_count": null,
      "outputs": []
    },
    {
      "cell_type": "markdown",
      "metadata": {
        "id": "q5Dg9RZA62IJ",
        "colab_type": "text"
      },
      "source": [
        "## HorizontalFlip\n",
        "### Flip the input horizontally around the y-axis.\n",
        "### y軸を中心に水平に反転"
      ]
    },
    {
      "cell_type": "code",
      "metadata": {
        "id": "ahquK4-u7B6S",
        "colab_type": "code",
        "colab": {}
      },
      "source": [
        "aug = []\n",
        "n = 1\n",
        "aug.append(A.Compose([A.HorizontalFlip(p=1)]))\n",
        "aug_img = [aug[i](image=img) for i in range(n)]\n",
        "\n",
        "fig, ax = plt.subplots(1, 1+n, figsize=(5+5*n, 5))\n",
        "plt.subplots_adjust(wspace=0)\n",
        "plt.rcParams[\"font.size\"] = 18\n",
        "[ax[i].tick_params(bottom=False, left=False, right=False, top=False, labelbottom=False, labelleft=False, labelright=False, labeltop=False) for i in range(1+n)]\n",
        "\n",
        "ax[0].set_xlabel(\"Original\")\n",
        "ax[1].set_xlabel(\"Default Augmentation\")\n",
        "\n",
        "ax[0].imshow(img)\n",
        "[ax[i+1].imshow(aug_img[i]['image']) for i in range(n)]"
      ],
      "execution_count": null,
      "outputs": []
    },
    {
      "cell_type": "markdown",
      "metadata": {
        "id": "uMTe0lXpFZCz",
        "colab_type": "text"
      },
      "source": [
        "## Crop\n",
        "### Crop region from image.\n",
        "### 領域を切り取る\n",
        "* x_min (int) – Minimum upper left x coordinate.\n",
        " - 左上x座標の最小値\n",
        "* y_min (int) – Minimum upper left y coordinate.\n",
        " - 左上y座標の最小値\n",
        "* x_max (int) – Maximum lower right x coordinate.\n",
        " - 右下x座標の最大値\n",
        "* y_max (int) – Maximum lower right y coordinate.\n",
        " - 右下y座標の最大値\n"
      ]
    },
    {
      "cell_type": "code",
      "metadata": {
        "id": "bG1omcSECCl9",
        "colab_type": "code",
        "colab": {}
      },
      "source": [
        "aug = []\n",
        "n = 1\n",
        "aug.append(A.Compose([A.Crop(x_min=10, y_min=10, x_max=300, y_max=300, p=1)]))\n",
        "aug_img = [aug[i](image=img) for i in range(n)]\n",
        "\n",
        "fig, ax = plt.subplots(1, 1+n, figsize=(5+5*n, 5))\n",
        "plt.subplots_adjust(wspace=0)\n",
        "plt.rcParams[\"font.size\"] = 18\n",
        "[ax[i].tick_params(bottom=False, left=False, right=False, top=False, labelbottom=False, labelleft=False, labelright=False, labeltop=False) for i in range(1+n)]\n",
        "\n",
        "ax[0].set_xlabel(\"Original\")\n",
        "ax[1].set_xlabel(\"x_min=10, y_min=10, x_max=300, y_max=300\")\n",
        "\n",
        "ax[0].imshow(img)\n",
        "[ax[i+1].imshow(aug_img[i]['image']) for i in range(n)]"
      ],
      "execution_count": null,
      "outputs": []
    },
    {
      "cell_type": "markdown",
      "metadata": {
        "id": "e2vxHg0pGdgD",
        "colab_type": "text"
      },
      "source": [
        "## RandomCrop\n",
        "### Crop a random part of the input.\n",
        "### ランダムに切り取る\n",
        "* height: height of the crop. (切り取る高さ)\n",
        "* width: width of the crop. (切り取る幅)"
      ]
    },
    {
      "cell_type": "code",
      "metadata": {
        "id": "SraGg9fOGzJq",
        "colab_type": "code",
        "colab": {}
      },
      "source": [
        "aug = []\n",
        "n = 3\n",
        "param1 = 256\n",
        "param2 = 128\n",
        "aug.append(A.Compose([A.RandomCrop(height=param1, width=param1, p=1)]))\n",
        "aug.append(A.Compose([A.RandomCrop(height=param2, width=param2, p=1)]))\n",
        "aug.append(A.Compose([A.RandomCrop(height=param2, width=param1, p=1)]))\n",
        "aug_img = [aug[i](image=img) for i in range(n)]\n",
        "\n",
        "fig, ax = plt.subplots(1, 1+n, figsize=(5+5*n, 5))\n",
        "plt.subplots_adjust(wspace=0)\n",
        "plt.rcParams[\"font.size\"] = 18\n",
        "[ax[i].tick_params(bottom=False, left=False, right=False, top=False, labelbottom=False, labelleft=False, labelright=False, labeltop=False) for i in range(1+n)]\n",
        "\n",
        "ax[0].set_xlabel(\"Original\")\n",
        "ax[1].set_xlabel(\"crop_size=({},{})\".format(param1, param1))\n",
        "ax[2].set_xlabel(\"crop_size=({},{})\".format(param2, param2))\n",
        "ax[3].set_xlabel(\"crop_size=({},{})\".format(param2, param1))\n",
        "\n",
        "ax[0].imshow(img)\n",
        "[ax[i+1].imshow(aug_img[i]['image']) for i in range(n)]"
      ],
      "execution_count": null,
      "outputs": []
    },
    {
      "cell_type": "markdown",
      "metadata": {
        "id": "A4nR-odwy8FM",
        "colab_type": "text"
      },
      "source": [
        "## CenterCrop\n",
        "### Crop the central part of the input.\n",
        "### 中心部分をクロップする\n",
        "* height (int) – height of the crop.\n",
        " * クロップする高さ\n",
        "* width (int) – width of the crop.\n",
        " * クロップスする幅"
      ]
    },
    {
      "cell_type": "code",
      "metadata": {
        "id": "ADBr72h_zMu_",
        "colab_type": "code",
        "colab": {}
      },
      "source": [
        "aug = []\n",
        "n = 3\n",
        "param1 = (256, 256)\n",
        "param2 = (50, 200)\n",
        "param3 = (80, 50)\n",
        "aug.append(A.Compose([A.CenterCrop(height=param1[0], width=param1[1], p=1)]))\n",
        "aug.append(A.Compose([A.CenterCrop(height=param2[0], width=param2[1], p=1)]))\n",
        "aug.append(A.Compose([A.CenterCrop(height=param3[0], width=param3[1], p=1)]))\n",
        "aug_img = [aug[i](image=img) for i in range(n)]\n",
        "\n",
        "fig, ax = plt.subplots(1, 1+n, figsize=(5+5*n, 5))\n",
        "plt.subplots_adjust(wspace=0)\n",
        "plt.rcParams[\"font.size\"] = 18\n",
        "[ax[i].tick_params(bottom=False, left=False, right=False, top=False, labelbottom=False, labelleft=False, labelright=False, labeltop=False) for i in range(1+n)]\n",
        "\n",
        "ax[0].set_xlabel(\"Original\")\n",
        "ax[1].set_xlabel(\"crop={}\".format(param1))\n",
        "ax[2].set_xlabel(\"crop={}\".format(param2))\n",
        "ax[3].set_xlabel(\"crop={}\".format(param3))\n",
        "\n",
        "ax[0].imshow(img)\n",
        "[ax[i+1].imshow(aug_img[i]['image']) for i in range(n)]"
      ],
      "execution_count": null,
      "outputs": []
    },
    {
      "cell_type": "markdown",
      "metadata": {
        "id": "WyT-N6T8LJag",
        "colab_type": "text"
      },
      "source": [
        "## RandomSizedCrop\n",
        "### Crop a random part of the input and rescale it to some size.\n",
        "### ランダムに切り取り、特定の大きさにリスケールする\n",
        "* min_max_height ((int, int)) – crop size limits.\n",
        " - クロップサイズの範囲\n",
        "* height (int) – height after crop and resize.\n",
        " - リサイズ後の高さ\n",
        "* width (int) – width after crop and resize.\n",
        " - リサイズ後の幅\n",
        "* w2h_ratio (float) – aspect ratio of crop. Default: 1.0.\n",
        " - クロップのアスペクト比"
      ]
    },
    {
      "cell_type": "code",
      "metadata": {
        "id": "G_1rMKq2HJfI",
        "colab_type": "code",
        "colab": {}
      },
      "source": [
        "aug = []\n",
        "n = 3\n",
        "param1 = (300, 300)\n",
        "param2 = (300, 400)\n",
        "param3 = (400, 300)\n",
        "aug.append(A.Compose([A.RandomSizedCrop(min_max_height=(300,300), height=param1[0], width=param1[1], p=1)]))\n",
        "aug.append(A.Compose([A.RandomSizedCrop(min_max_height=(300,300), height=param2[0], width=param2[1], p=1)]))\n",
        "aug.append(A.Compose([A.RandomSizedCrop(min_max_height=(300,300), height=param3[0], width=param3[1], p=1)]))\n",
        "aug_img = [aug[i](image=img) for i in range(n)]\n",
        "\n",
        "fig, ax = plt.subplots(1, 1+n, figsize=(5+5*n, 5))\n",
        "plt.subplots_adjust(wspace=0)\n",
        "plt.rcParams[\"font.size\"] = 18\n",
        "[ax[i].tick_params(bottom=False, left=False, right=False, top=False, labelbottom=False, labelleft=False, labelright=False, labeltop=False) for i in range(1+n)]\n",
        "\n",
        "ax[0].set_xlabel(\"Original\")\n",
        "ax[1].set_xlabel(\"height, width={}\".format(param1))\n",
        "ax[2].set_xlabel(\"height, width={}\".format(param2))\n",
        "ax[3].set_xlabel(\"height, width={}\".format(param3))\n",
        "\n",
        "ax[0].imshow(img)\n",
        "[ax[i+1].imshow(aug_img[i]['image']) for i in range(n)]"
      ],
      "execution_count": null,
      "outputs": []
    },
    {
      "cell_type": "markdown",
      "metadata": {
        "id": "RtOorYjYRJw0",
        "colab_type": "text"
      },
      "source": [
        "## RandomResizedCrop\n",
        "### Torchvision’s variant of crop a random part of the input and rescale it to some size.\n",
        "### ランダムに切り取り、特定の大きさにリスケールする（Torchvisionのバリアント）\n",
        "* height (int) – height after crop and resize.\n",
        " - リサイズ後の高さ\n",
        "* width (int) – width after crop and resize.\n",
        " - リサイズ後の幅\n",
        "* scale ((float, float)) – range of size of the origin size cropped. Default: (0.08, 1.0).\n",
        " - クロップする領域のサイズの範囲\n",
        "* ratio ((float, float)) – range of aspect ratio of the origin aspect ratio cropped. Default: (0.75, 1.3333333333333333).\n",
        " - クロップする領域のアスペクト比の範囲"
      ]
    },
    {
      "cell_type": "code",
      "metadata": {
        "id": "oVuD9-OSL090",
        "colab_type": "code",
        "colab": {}
      },
      "source": [
        "aug = []\n",
        "n = 3\n",
        "param1 = (300, 300)\n",
        "param2 = (300, 400)\n",
        "param3 = (400, 300)\n",
        "aug.append(A.Compose([A.RandomResizedCrop(height=param1[0], width=param1[1], p=1)]))\n",
        "aug.append(A.Compose([A.RandomResizedCrop(height=param2[0], width=param2[1], p=1)]))\n",
        "aug.append(A.Compose([A.RandomResizedCrop(height=param3[0], width=param3[1], p=1)]))\n",
        "aug_img = [aug[i](image=img) for i in range(n)]\n",
        "\n",
        "fig, ax = plt.subplots(1, 1+n, figsize=(5+5*n, 5))\n",
        "plt.subplots_adjust(wspace=0)\n",
        "plt.rcParams[\"font.size\"] = 18\n",
        "[ax[i].tick_params(bottom=False, left=False, right=False, top=False, labelbottom=False, labelleft=False, labelright=False, labeltop=False) for i in range(1+n)]\n",
        "\n",
        "ax[0].set_xlabel(\"Original\")\n",
        "ax[1].set_xlabel(\"height, width={}\".format(param1))\n",
        "ax[2].set_xlabel(\"height, width={}\".format(param2))\n",
        "ax[3].set_xlabel(\"height, width={}\".format(param3))\n",
        "\n",
        "ax[0].imshow(img)\n",
        "[ax[i+1].imshow(aug_img[i]['image']) for i in range(n)]"
      ],
      "execution_count": null,
      "outputs": []
    },
    {
      "cell_type": "markdown",
      "metadata": {
        "id": "VnpCB5vbrtUt",
        "colab_type": "text"
      },
      "source": [
        "## Rotate\n",
        "### Rotate the input by an angle selected randomly from the uniform distribution.\n",
        "### ランダムな角度で回転させる\n",
        "* limit: range from which a random angle is picked. If limit is a single int an angle is picked from (-limit, limit). Default: (-90, 90)\n",
        " * 角度の範囲、単一数値の場合は(-limit, limit)"
      ]
    },
    {
      "cell_type": "code",
      "metadata": {
        "id": "x0wI_ev0vRBd",
        "colab_type": "code",
        "colab": {}
      },
      "source": [
        "aug = []\n",
        "n = 3\n",
        "param1 = (50.0, 60.0)\n",
        "param2 = (150.0, 160.0)\n",
        "aug.append(A.Compose([A.Rotate(p=1)]))\n",
        "aug.append(A.Compose([A.Rotate(limit=param1, p=1)]))\n",
        "aug.append(A.Compose([A.Rotate(limit=param2, p=1)]))\n",
        "aug_img = [aug[i](image=img) for i in range(n)]\n",
        "\n",
        "fig, ax = plt.subplots(1, 1+n, figsize=(5+5*n, 5))\n",
        "plt.subplots_adjust(wspace=0)\n",
        "plt.rcParams[\"font.size\"] = 18\n",
        "[ax[i].tick_params(bottom=False, left=False, right=False, top=False, labelbottom=False, labelleft=False, labelright=False, labeltop=False) for i in range(1+n)]\n",
        "\n",
        "ax[0].set_xlabel(\"Original\")\n",
        "ax[1].set_xlabel(\"Default Augmentation\")\n",
        "ax[2].set_xlabel(\"limit={}\".format(param1))\n",
        "ax[3].set_xlabel(\"limit={}\".format(param2))\n",
        "\n",
        "ax[0].imshow(img)\n",
        "[ax[i+1].imshow(aug_img[i]['image']) for i in range(n)]"
      ],
      "execution_count": null,
      "outputs": []
    },
    {
      "cell_type": "markdown",
      "metadata": {
        "id": "v4oj2WNqH1jt",
        "colab_type": "text"
      },
      "source": [
        "## RandomScale\n",
        "### Randomly resize the input. Output image size is different from the input image size.\n",
        "### 画像サイズをランダムに変更する\n",
        "* scale_limit ((float, float) or float) – scaling factor range. If scale_limit is a single float value, the range will be (1 - scale_limit, 1 + scale_limit). Default: (0.9, 1.1).\n",
        " - 拡大縮小率の範囲 (0が変化なしなので注意)"
      ]
    },
    {
      "cell_type": "code",
      "metadata": {
        "id": "WA_f_33KGHV6",
        "colab_type": "code",
        "colab": {}
      },
      "source": [
        "aug = []\n",
        "n = 3\n",
        "param1 = (-0.9, -0.9)\n",
        "param2 = (3.0, 3.0)\n",
        "aug.append(A.Compose([A.RandomScale(p=1)]))\n",
        "aug.append(A.Compose([A.RandomScale(scale_limit=param1, p=1)]))\n",
        "aug.append(A.Compose([A.RandomScale(scale_limit=param2, p=1)]))\n",
        "aug_img = [aug[i](image=img) for i in range(n)]\n",
        "\n",
        "fig, ax = plt.subplots(1, 1+n, figsize=(5+5*n, 5))\n",
        "plt.subplots_adjust(wspace=0)\n",
        "plt.rcParams[\"font.size\"] = 18\n",
        "[ax[i].tick_params(bottom=False, left=False, right=False, top=False, labelbottom=False, labelleft=False, labelright=False, labeltop=False) for i in range(1+n)]\n",
        "\n",
        "ax[0].set_xlabel(\"Original\")\n",
        "ax[1].set_xlabel(\"Default Augmentation\")\n",
        "ax[2].set_xlabel(\"scale_limit={}\".format(param1))\n",
        "ax[3].set_xlabel(\"scale_limit={}\".format(param2))\n",
        "\n",
        "ax[0].imshow(img)\n",
        "[ax[i+1].imshow(aug_img[i]['image']) for i in range(n)]"
      ],
      "execution_count": null,
      "outputs": []
    },
    {
      "cell_type": "markdown",
      "metadata": {
        "id": "m7AHs5gTKKS9",
        "colab_type": "text"
      },
      "source": [
        "※一番右は同じサイズでプレビューされているので見た目にはわからないが元の画像サイズが変わっている"
      ]
    },
    {
      "cell_type": "markdown",
      "metadata": {
        "id": "8f0gVh57qysj",
        "colab_type": "text"
      },
      "source": [
        "## RandomRotate90\n",
        "### Randomly rotate the input by 90 degrees zero or more times.\n",
        "### ランダムに90°単位で回転させる"
      ]
    },
    {
      "cell_type": "code",
      "metadata": {
        "id": "zYV538w99dM2",
        "colab_type": "code",
        "colab": {}
      },
      "source": [
        "aug = []\n",
        "n = 3\n",
        "aug.append(A.Compose([A.RandomRotate90(p=1)]))\n",
        "aug.append(A.Compose([A.RandomRotate90(p=1)]))\n",
        "aug.append(A.Compose([A.RandomRotate90(p=1)]))\n",
        "aug_img = [aug[i](image=img) for i in range(n)]\n",
        "\n",
        "fig, ax = plt.subplots(1, 1+n, figsize=(5+5*n, 5))\n",
        "plt.subplots_adjust(wspace=0)\n",
        "plt.rcParams[\"font.size\"] = 18\n",
        "[ax[i].tick_params(bottom=False, left=False, right=False, top=False, labelbottom=False, labelleft=False, labelright=False, labeltop=False) for i in range(1+n)]\n",
        "\n",
        "ax[0].set_xlabel(\"Original\")\n",
        "ax[1].set_xlabel(\"Default Augmentation 1\")\n",
        "ax[2].set_xlabel(\"Default Augmentation 2\")\n",
        "ax[3].set_xlabel(\"Default Augmentation 3\")\n",
        "\n",
        "ax[0].imshow(img)\n",
        "[ax[i+1].imshow(aug_img[i]['image']) for i in range(n)]"
      ],
      "execution_count": null,
      "outputs": []
    },
    {
      "cell_type": "markdown",
      "metadata": {
        "id": "a3AoxcyFFo23",
        "colab_type": "text"
      },
      "source": [
        "## Transpose\n",
        "### Transpose the input by swapping rows and columns.\n",
        "### 行と列を入れ替えて転置"
      ]
    },
    {
      "cell_type": "code",
      "metadata": {
        "id": "SUJoIWHLF8OG",
        "colab_type": "code",
        "colab": {}
      },
      "source": [
        "aug = []\n",
        "n = 1\n",
        "aug.append(A.Compose([A.Transpose(p=1)]))\n",
        "aug_img = [aug[i](image=img) for i in range(n)]\n",
        "\n",
        "fig, ax = plt.subplots(1, 1+n, figsize=(5+5*n, 5))\n",
        "plt.subplots_adjust(wspace=0)\n",
        "plt.rcParams[\"font.size\"] = 18\n",
        "[ax[i].tick_params(bottom=False, left=False, right=False, top=False, labelbottom=False, labelleft=False, labelright=False, labeltop=False) for i in range(1+n)]\n",
        "\n",
        "ax[0].set_xlabel(\"Original\")\n",
        "ax[1].set_xlabel(\"Default Augmentation\")\n",
        "\n",
        "ax[0].imshow(img)\n",
        "[ax[i+1].imshow(aug_img[i]['image']) for i in range(n)]"
      ],
      "execution_count": null,
      "outputs": []
    },
    {
      "cell_type": "markdown",
      "metadata": {
        "id": "UnImCxEl912j",
        "colab_type": "text"
      },
      "source": [
        "# 高度幾何変換系 (Affine, Distortion)"
      ]
    },
    {
      "cell_type": "markdown",
      "metadata": {
        "id": "RnEpZfdov1Fn",
        "colab_type": "text"
      },
      "source": [
        "## ShiftScaleRotate\n",
        "### Randomly apply affine transforms: translate, scale and rotate the input.\n",
        "### ランダムにアフィン変換を適用する（平行移動、拡大縮小、回転）\n",
        "* shift_limit: shift factor range for both height and width. If shift_limit is a single float value, the range will be (-shift_limit, shift_limit). Absolute values for lower and upper bounds should lie in range [0, 1]. Default: (-0.0625, 0.0625).\n",
        " * 平行移動の範囲\n",
        "* scale_limit: scaling factor range. If scale_limit is a single float value, the range will be (-scale_limit, scale_limit). Default: (-0.1, 0.1).\n",
        " * 拡大縮小率の範囲 (0が変化なしなので注意)\n",
        "* rotate_limit: rotation range. If rotate_limit is a single int value, the range will be (-rotate_limit, rotate_limit). Default: (-45, 45).\n",
        " * 回転の範囲"
      ]
    },
    {
      "cell_type": "code",
      "metadata": {
        "id": "riwIuBpl9o6a",
        "colab_type": "code",
        "colab": {}
      },
      "source": [
        "aug = []\n",
        "n = 3\n",
        "aug.append(A.Compose([A.ShiftScaleRotate(p=1)]))\n",
        "aug.append(A.Compose([A.ShiftScaleRotate(p=1)]))\n",
        "aug.append(A.Compose([A.ShiftScaleRotate(p=1)]))\n",
        "aug_img = [aug[i](image=img) for i in range(n)]\n",
        "\n",
        "fig, ax = plt.subplots(1, 1+n, figsize=(5+5*n, 5))\n",
        "plt.subplots_adjust(wspace=0)\n",
        "plt.rcParams[\"font.size\"] = 18\n",
        "[ax[i].tick_params(bottom=False, left=False, right=False, top=False, labelbottom=False, labelleft=False, labelright=False, labeltop=False) for i in range(1+n)]\n",
        "\n",
        "ax[0].set_xlabel(\"Original\")\n",
        "ax[1].set_xlabel(\"Default Augmentation 1\")\n",
        "ax[2].set_xlabel(\"Default Augmentation 2\")\n",
        "ax[3].set_xlabel(\"Default Augmentation 3\")\n",
        "\n",
        "ax[0].imshow(img)\n",
        "[ax[i+1].imshow(aug_img[i]['image']) for i in range(n)]"
      ],
      "execution_count": null,
      "outputs": []
    },
    {
      "cell_type": "markdown",
      "metadata": {
        "id": "5xzcmDKT0fVk",
        "colab_type": "text"
      },
      "source": [
        "## OpticalDistortion\n",
        "### 光学的な歪みを再現する\n",
        "* distort_limit (float, (float, float)) – If distort_limit is a single float, the range will be (-distort_limit, distort_limit). Default: (-0.05, 0.05).\n",
        " * 歪みの範囲\n",
        "* shift_limit (float, (float, float))) – If shift_limit is a single float, the range will be (-shift_limit, shift_limit). Default: (-0.05, 0.05).\n",
        " * シフトする範囲\n",
        "\n",
        "Bounding BoxとKeypointsには適用できない"
      ]
    },
    {
      "cell_type": "code",
      "metadata": {
        "id": "2f4LLN3Y1o1E",
        "colab_type": "code",
        "colab": {}
      },
      "source": [
        "aug = []\n",
        "n = 3\n",
        "param1 = (1.0, 1.0)\n",
        "param2 = (30.0, 30.0)\n",
        "aug.append(A.Compose([A.OpticalDistortion(p=1)]))\n",
        "aug.append(A.Compose([A.OpticalDistortion(distort_limit=param1, p=1)]))\n",
        "aug.append(A.Compose([A.OpticalDistortion(shift_limit=param2, p=1)]))\n",
        "aug_img = [aug[i](image=img) for i in range(n)]\n",
        "\n",
        "fig, ax = plt.subplots(1, 1+n, figsize=(5+5*n, 5))\n",
        "plt.subplots_adjust(wspace=0)\n",
        "plt.rcParams[\"font.size\"] = 18\n",
        "[ax[i].tick_params(bottom=False, left=False, right=False, top=False, labelbottom=False, labelleft=False, labelright=False, labeltop=False) for i in range(1+n)]\n",
        "\n",
        "ax[0].set_xlabel(\"Original\")\n",
        "ax[1].set_xlabel(\"Default Augmentation\")\n",
        "ax[2].set_xlabel(\"distort_limit={}\".format(param1))\n",
        "ax[3].set_xlabel(\"shift_limit={}\".format(param2))\n",
        "\n",
        "ax[0].imshow(img)\n",
        "[ax[i+1].imshow(aug_img[i]['image']) for i in range(n)]"
      ],
      "execution_count": null,
      "outputs": []
    },
    {
      "cell_type": "markdown",
      "metadata": {
        "id": "9i3wKigb2dp6",
        "colab_type": "text"
      },
      "source": [
        "## GridDistortion\n",
        "### Grid歪みを再現する\n",
        "* num_steps (int) – count of grid cells on each side. Default: 5.\n",
        " * 各辺のグリッドセルの数を指定\n",
        "* distort_limit (float, (float, float)) – If distort_limit is a single float, the range will be (-distort_limit, distort_limit). Default: (-0.03, 0.03).\n",
        " * 歪みの範囲\n",
        "\n",
        "Bounding BoxとKeypointsには適用できない"
      ]
    },
    {
      "cell_type": "code",
      "metadata": {
        "id": "DzfJ8yaq27Ni",
        "colab_type": "code",
        "colab": {}
      },
      "source": [
        "aug = []\n",
        "n = 3\n",
        "param1 = 10\n",
        "param2 = (0.5, 0.5)\n",
        "aug.append(A.Compose([A.GridDistortion(p=1)]))\n",
        "aug.append(A.Compose([A.GridDistortion(num_steps=param1, p=1)]))\n",
        "aug.append(A.Compose([A.GridDistortion(distort_limit=param2, p=1)]))\n",
        "aug_img = [aug[i](image=img) for i in range(n)]\n",
        "\n",
        "fig, ax = plt.subplots(1, 1+n, figsize=(5+5*n, 5))\n",
        "plt.subplots_adjust(wspace=0)\n",
        "plt.rcParams[\"font.size\"] = 18\n",
        "[ax[i].tick_params(bottom=False, left=False, right=False, top=False, labelbottom=False, labelleft=False, labelright=False, labeltop=False) for i in range(1+n)]\n",
        "\n",
        "ax[0].set_xlabel(\"Original\")\n",
        "ax[1].set_xlabel(\"Default Augmentation\")\n",
        "ax[2].set_xlabel(\"num_steps={}\".format(param1))\n",
        "ax[3].set_xlabel(\"distort_limit={}\".format(param2))\n",
        "\n",
        "ax[0].imshow(img)\n",
        "[ax[i+1].imshow(aug_img[i]['image']) for i in range(n)]"
      ],
      "execution_count": null,
      "outputs": []
    },
    {
      "cell_type": "markdown",
      "metadata": {
        "id": "_g22Fq5n4vbI",
        "colab_type": "text"
      },
      "source": [
        "## ElasticTransform\n",
        "### Elastic deformation of images as described in [Simard2003] (with modifications). \n",
        "### 弾性変形\n",
        "* alpha (float) – Parameter. Default: 1.\n",
        " * 変形パラメータ\n",
        "* sigma (float) – Gaussian filter parameter. Default: 50.\n",
        " * ガウシアンフィルタパラメータ\n",
        "* alpha_affine (float) – The range will be (-alpha_affine, alpha_affine). Default: 50.\n",
        " * alpha_affineの範囲\n",
        "\n",
        "Bounding BoxとKeypointsには適用できない"
      ]
    },
    {
      "cell_type": "code",
      "metadata": {
        "id": "1VkKvX465UbE",
        "colab_type": "code",
        "colab": {}
      },
      "source": [
        "aug = []\n",
        "n = 3\n",
        "param1 = 5\n",
        "param2 = 30\n",
        "aug.append(A.Compose([A.ElasticTransform(p=1)]))\n",
        "aug.append(A.Compose([A.ElasticTransform(alpha=param1, p=1)]))\n",
        "aug.append(A.Compose([A.ElasticTransform(sigma=param2, p=1)]))\n",
        "aug_img = [aug[i](image=img) for i in range(n)]\n",
        "\n",
        "fig, ax = plt.subplots(1, 1+n, figsize=(5+5*n, 5))\n",
        "plt.subplots_adjust(wspace=0)\n",
        "plt.rcParams[\"font.size\"] = 18\n",
        "[ax[i].tick_params(bottom=False, left=False, right=False, top=False, labelbottom=False, labelleft=False, labelright=False, labeltop=False) for i in range(1+n)]\n",
        "\n",
        "ax[0].set_xlabel(\"Original\")\n",
        "ax[1].set_xlabel(\"Default Augmentation\")\n",
        "ax[2].set_xlabel(\"alpha={}\".format(param1))\n",
        "ax[3].set_xlabel(\"sigma={}\".format(param2))\n",
        "\n",
        "ax[0].imshow(img)\n",
        "[ax[i+1].imshow(aug_img[i]['image']) for i in range(n)]"
      ],
      "execution_count": null,
      "outputs": []
    },
    {
      "cell_type": "markdown",
      "metadata": {
        "id": "n0-PHzpJ6Iwy",
        "colab_type": "text"
      },
      "source": [
        "## RandomGridShuffle\n",
        "### Random shuffle grid’s cells on image.\n",
        "### ランダムにグリッドのセルをシャッフルする\n",
        "* grid ((int, int)) – size of grid for splitting image. Default: (3,3).\n",
        " * 画像を分割するグリッドのサイズ\n",
        " \n",
        "Bounding BoxとKeypointsには適用できない"
      ]
    },
    {
      "cell_type": "code",
      "metadata": {
        "id": "Eh21mljL6SkF",
        "colab_type": "code",
        "colab": {}
      },
      "source": [
        "aug = []\n",
        "n = 3\n",
        "param1 = (5, 5)\n",
        "param2 = (3, 10)\n",
        "aug.append(A.Compose([A.RandomGridShuffle(p=1)]))\n",
        "aug.append(A.Compose([A.RandomGridShuffle(grid=param1, p=1)]))\n",
        "aug.append(A.Compose([A.RandomGridShuffle(grid=param2, p=1)]))\n",
        "aug_img = [aug[i](image=img) for i in range(n)]\n",
        "\n",
        "fig, ax = plt.subplots(1, 1+n, figsize=(5+5*n, 5))\n",
        "plt.subplots_adjust(wspace=0)\n",
        "plt.rcParams[\"font.size\"] = 18\n",
        "[ax[i].tick_params(bottom=False, left=False, right=False, top=False, labelbottom=False, labelleft=False, labelright=False, labeltop=False) for i in range(1+n)]\n",
        "\n",
        "ax[0].set_xlabel(\"Original\")\n",
        "ax[1].set_xlabel(\"Default Augmentation\")\n",
        "ax[2].set_xlabel(\"grid={}\".format(param1))\n",
        "ax[3].set_xlabel(\"grid={}\".format(param2))\n",
        "\n",
        "ax[0].imshow(img)\n",
        "[ax[i+1].imshow(aug_img[i]['image']) for i in range(n)]"
      ],
      "execution_count": null,
      "outputs": []
    },
    {
      "cell_type": "markdown",
      "metadata": {
        "id": "jYusm9xP-K9K",
        "colab_type": "text"
      },
      "source": [
        "# 色いじる系"
      ]
    },
    {
      "cell_type": "markdown",
      "metadata": {
        "id": "BxuHPy4p8wGM",
        "colab_type": "text"
      },
      "source": [
        "## HueSaturationValue\n",
        "### Randomly change hue, saturation and value of the input image.\n",
        "### ランダムに色相、彩度、輝度を変える\n",
        "* hue_shift_limit ((int, int) or int) – range for changing hue. If hue_shift_limit is a single int, the range will be (-hue_shift_limit, hue_shift_limit). Default: (-20, 20).\n",
        " * 色相の範囲\n",
        "* sat_shift_limit ((int, int) or int) – range for changing saturation. If sat_shift_limit is a single int, the range will be (-sat_shift_limit, sat_shift_limit). Default: (-30, 30).\n",
        " * 彩度の範囲\n",
        "* val_shift_limit ((int, int) or int) – range for changing value. If val_shift_limit is a single int, the range will be (-val_shift_limit, val_shift_limit). Default: (-20, 20).\n",
        " * 輝度の範囲"
      ]
    },
    {
      "cell_type": "code",
      "metadata": {
        "id": "-kDBUq1u9PHa",
        "colab_type": "code",
        "colab": {}
      },
      "source": [
        "aug = []\n",
        "n = 3\n",
        "param1 = (50, 50)\n",
        "param2 = (70, 70)\n",
        "aug.append(A.Compose([A.HueSaturationValue(p=1)]))\n",
        "aug.append(A.Compose([A.HueSaturationValue(hue_shift_limit=param1, p=1)]))\n",
        "aug.append(A.Compose([A.HueSaturationValue(sat_shift_limit=param2, p=1)]))\n",
        "aug_img = [aug[i](image=img) for i in range(n)]\n",
        "\n",
        "fig, ax = plt.subplots(1, 1+n, figsize=(5+5*n, 5))\n",
        "plt.subplots_adjust(wspace=0)\n",
        "plt.rcParams[\"font.size\"] = 18\n",
        "[ax[i].tick_params(bottom=False, left=False, right=False, top=False, labelbottom=False, labelleft=False, labelright=False, labeltop=False) for i in range(1+n)]\n",
        "\n",
        "ax[0].set_xlabel(\"Original\")\n",
        "ax[1].set_xlabel(\"Default Augmentation\")\n",
        "ax[2].set_xlabel(\"hue_shift_limit={}\".format(param1))\n",
        "ax[3].set_xlabel(\"sat_shift_limit={}\".format(param2))\n",
        "\n",
        "ax[0].imshow(img)\n",
        "[ax[i+1].imshow(aug_img[i]['image']) for i in range(n)]"
      ],
      "execution_count": null,
      "outputs": []
    },
    {
      "cell_type": "markdown",
      "metadata": {
        "id": "99itWY78e5LK",
        "colab_type": "text"
      },
      "source": [
        "## RGBShift\n",
        "### Randomly shift values for each channel of the input RGB image.\n",
        "### ランダムにRGBの各チャンネルの値を変える\n",
        "* r_shift_limit ((int, int) or int) – range for changing values for the red channel. If r_shift_limit is a single int, the range will be (-r_shift_limit, r_shift_limit). Default: (-20, 20).\n",
        " * Redチャネルの変化範囲\n",
        "* g_shift_limit ((int, int) or int) – range for changing values for the green channel. If g_shift_limit is a single int, the range will be (-g_shift_limit, g_shift_limit). Default: (-20, 20).\n",
        " * Greenチャネルの変化範囲\n",
        "* b_shift_limit ((int, int) or int) – range for changing values for the blue channel. If b_shift_limit is a single int, the range will be (-b_shift_limit, b_shift_limit). Default: (-20, 20).\n",
        " * Blueチャネルの変化範囲"
      ]
    },
    {
      "cell_type": "code",
      "metadata": {
        "id": "WM69hUOQfUUG",
        "colab_type": "code",
        "colab": {}
      },
      "source": [
        "aug = []\n",
        "n = 3\n",
        "param1 = (40, 45)\n",
        "param2 = (50, 55)\n",
        "aug.append(A.Compose([A.RGBShift(p=1)]))\n",
        "aug.append(A.Compose([A.RGBShift(r_shift_limit=param1, p=1)]))\n",
        "aug.append(A.Compose([A.RGBShift(g_shift_limit=param2, p=1)]))\n",
        "aug_img = [aug[i](image=img) for i in range(n)]\n",
        "\n",
        "fig, ax = plt.subplots(1, 1+n, figsize=(5+5*n, 5))\n",
        "plt.subplots_adjust(wspace=0)\n",
        "plt.rcParams[\"font.size\"] = 18\n",
        "[ax[i].tick_params(bottom=False, left=False, right=False, top=False, labelbottom=False, labelleft=False, labelright=False, labeltop=False) for i in range(1+n)]\n",
        "\n",
        "ax[0].set_xlabel(\"Original\")\n",
        "ax[1].set_xlabel(\"Default Augmentation\")\n",
        "ax[2].set_xlabel(\"r_shift_limit={}\".format(param1))\n",
        "ax[3].set_xlabel(\"g_shift_limit={}\".format(param2))\n",
        "\n",
        "ax[0].imshow(img)\n",
        "[ax[i+1].imshow(aug_img[i]['image']) for i in range(n)]"
      ],
      "execution_count": null,
      "outputs": []
    },
    {
      "cell_type": "markdown",
      "metadata": {
        "id": "pngtvhK18BpA",
        "colab_type": "text"
      },
      "source": [
        "## ChannelShuffle\n",
        "### Randomly rearrange channels of the input RGB image.\n",
        "### RGBのチャンネルをランダムに並べ替える"
      ]
    },
    {
      "cell_type": "code",
      "metadata": {
        "id": "STGMmX_r4dMB",
        "colab_type": "code",
        "colab": {}
      },
      "source": [
        "aug = []\n",
        "n = 3\n",
        "aug.append(A.Compose([A.ChannelShuffle(p=1)]))\n",
        "aug.append(A.Compose([A.ChannelShuffle(p=1)]))\n",
        "aug.append(A.Compose([A.ChannelShuffle(p=1)]))\n",
        "aug_img = [aug[i](image=img) for i in range(n)]\n",
        "\n",
        "fig, ax = plt.subplots(1, 1+n, figsize=(5+5*n, 5))\n",
        "plt.subplots_adjust(wspace=0)\n",
        "plt.rcParams[\"font.size\"] = 18\n",
        "[ax[i].tick_params(bottom=False, left=False, right=False, top=False, labelbottom=False, labelleft=False, labelright=False, labeltop=False) for i in range(1+n)]\n",
        "\n",
        "ax[0].set_xlabel(\"Original\")\n",
        "ax[1].set_xlabel(\"Default Augmentation 1\")\n",
        "ax[2].set_xlabel(\"Default Augmentation 2\")\n",
        "ax[3].set_xlabel(\"Default Augmentation 3\")\n",
        "\n",
        "ax[0].imshow(img)\n",
        "[ax[i+1].imshow(aug_img[i]['image']) for i in range(n)]"
      ],
      "execution_count": null,
      "outputs": []
    },
    {
      "cell_type": "markdown",
      "metadata": {
        "id": "dISz2UAW0f85",
        "colab_type": "text"
      },
      "source": [
        "## ChannelDropout\n",
        "### Randomly Drop Channels in the input Image.\n",
        "### ランダムにチャンネルをドロップする\n",
        "* channel_drop_range (int, int) – range from which we choose the number of channels to drop.\n",
        "* fill_value (int, float) – pixel value for the dropped channel."
      ]
    },
    {
      "cell_type": "code",
      "metadata": {
        "id": "wkvpgLqA0QCT",
        "colab_type": "code",
        "colab": {}
      },
      "source": [
        "aug = []\n",
        "n = 3\n",
        "aug.append(A.Compose([A.ChannelDropout(p=1)]))\n",
        "aug.append(A.Compose([A.ChannelDropout(p=1)]))\n",
        "aug.append(A.Compose([A.ChannelDropout(p=1)]))\n",
        "aug_img = [aug[i](image=img) for i in range(n)]\n",
        "\n",
        "fig, ax = plt.subplots(1, 1+n, figsize=(5+5*n, 5))\n",
        "plt.subplots_adjust(wspace=0)\n",
        "plt.rcParams[\"font.size\"] = 18\n",
        "[ax[i].tick_params(bottom=False, left=False, right=False, top=False, labelbottom=False, labelleft=False, labelright=False, labeltop=False) for i in range(1+n)]\n",
        "\n",
        "ax[0].set_xlabel(\"Original\")\n",
        "ax[1].set_xlabel(\"Default Augmentation 1\")\n",
        "ax[2].set_xlabel(\"Default Augmentation 2\")\n",
        "ax[3].set_xlabel(\"Default Augmentation 3\")\n",
        "\n",
        "ax[0].imshow(img)\n",
        "[ax[i+1].imshow(aug_img[i]['image']) for i in range(n)]"
      ],
      "execution_count": null,
      "outputs": []
    },
    {
      "cell_type": "markdown",
      "metadata": {
        "id": "Gd0IzfcA2pWr",
        "colab_type": "text"
      },
      "source": [
        "## Posterize\n",
        "### Reduce the number of bits for each color channel.\n",
        "### 各色チャンネルのビット数を減らす\n",
        "* num_bits ((int, int) – or list of ints [r, g, b], or list of ints [[r1, r1], [g1, g2], [b1, b2]]): number of high bits. If num_bits is a single value, the range will be [num_bits, num_bits]. Must be in range [0, 8]. Default: 4."
      ]
    },
    {
      "cell_type": "code",
      "metadata": {
        "id": "7GV-dm5u2A5v",
        "colab_type": "code",
        "colab": {}
      },
      "source": [
        "aug = []\n",
        "n = 3\n",
        "param1 = 1\n",
        "param2 = 2\n",
        "aug.append(A.Compose([A.Posterize(p=1)]))\n",
        "aug.append(A.Compose([A.Posterize(num_bits=param1, p=1)]))\n",
        "aug.append(A.Compose([A.Posterize(num_bits=param2, p=1)]))\n",
        "aug_img = [aug[i](image=img) for i in range(n)]\n",
        "\n",
        "fig, ax = plt.subplots(1, 1+n, figsize=(5+5*n, 5))\n",
        "plt.subplots_adjust(wspace=0)\n",
        "plt.rcParams[\"font.size\"] = 18\n",
        "[ax[i].tick_params(bottom=False, left=False, right=False, top=False, labelbottom=False, labelleft=False, labelright=False, labeltop=False) for i in range(1+n)]\n",
        "\n",
        "ax[0].set_xlabel(\"Original\")\n",
        "ax[1].set_xlabel(\"Default Augmentation\")\n",
        "ax[2].set_xlabel(\"num_bits={}\".format(param1))\n",
        "ax[3].set_xlabel(\"num_bits={}\".format(param2))\n",
        "\n",
        "ax[0].imshow(img)\n",
        "[ax[i+1].imshow(aug_img[i]['image']) for i in range(n)]"
      ],
      "execution_count": null,
      "outputs": []
    },
    {
      "cell_type": "markdown",
      "metadata": {
        "id": "BSgWvHMK9R6S",
        "colab_type": "text"
      },
      "source": [
        "## ToGray\n",
        "### Convert the input RGB image to grayscale. If the mean pixel value for the resulting image is greater than 127, invert the resulting grayscale image.\n",
        "### RGB画像をグレースケールに変換する"
      ]
    },
    {
      "cell_type": "code",
      "metadata": {
        "id": "qfejEwMm9RYi",
        "colab_type": "code",
        "colab": {}
      },
      "source": [
        "aug = []\n",
        "n = 1\n",
        "aug.append(A.Compose([A.ToGray(p=1)]))\n",
        "aug_img = [aug[i](image=img) for i in range(n)]\n",
        "\n",
        "fig, ax = plt.subplots(1, 1+n, figsize=(5+5*n, 5))\n",
        "plt.subplots_adjust(wspace=0)\n",
        "plt.rcParams[\"font.size\"] = 18\n",
        "[ax[i].tick_params(bottom=False, left=False, right=False, top=False, labelbottom=False, labelleft=False, labelright=False, labeltop=False) for i in range(1+n)]\n",
        "\n",
        "ax[0].set_xlabel(\"Original\")\n",
        "ax[1].set_xlabel(\"Default Augmentation\")\n",
        "\n",
        "ax[0].imshow(img)\n",
        "[ax[i+1].imshow(aug_img[i]['image']) for i in range(n)]"
      ],
      "execution_count": null,
      "outputs": []
    },
    {
      "cell_type": "markdown",
      "metadata": {
        "id": "P7jKtMaq-DbD",
        "colab_type": "text"
      },
      "source": [
        "## ToSepia\n",
        "### Applies sepia filter to the input RGB image\n",
        "### セピアフィルタを適用する"
      ]
    },
    {
      "cell_type": "code",
      "metadata": {
        "id": "tc11QJSV9Fgd",
        "colab_type": "code",
        "colab": {}
      },
      "source": [
        "aug = []\n",
        "n = 1\n",
        "aug.append(A.Compose([A.ToSepia(p=1)]))\n",
        "aug_img = [aug[i](image=img) for i in range(n)]\n",
        "\n",
        "fig, ax = plt.subplots(1, 1+n, figsize=(5+5*n, 5))\n",
        "plt.subplots_adjust(wspace=0)\n",
        "plt.rcParams[\"font.size\"] = 18\n",
        "[ax[i].tick_params(bottom=False, left=False, right=False, top=False, labelbottom=False, labelleft=False, labelright=False, labeltop=False) for i in range(1+n)]\n",
        "\n",
        "ax[0].set_xlabel(\"Original\")\n",
        "ax[1].set_xlabel(\"Default Augmentation\")\n",
        "\n",
        "ax[0].imshow(img)\n",
        "[ax[i+1].imshow(aug_img[i]['image']) for i in range(n)]"
      ],
      "execution_count": null,
      "outputs": []
    },
    {
      "cell_type": "markdown",
      "metadata": {
        "id": "K_ZINh9D_jyV",
        "colab_type": "text"
      },
      "source": [
        "# 輝度やコントラストいじる系"
      ]
    },
    {
      "cell_type": "markdown",
      "metadata": {
        "id": "1zU5Fg9C8ySS",
        "colab_type": "text"
      },
      "source": [
        "## InvertImg\n",
        "### Invert the input image by subtracting pixel values from 255.\n",
        "### 画素値を反転させる"
      ]
    },
    {
      "cell_type": "code",
      "metadata": {
        "id": "WnQRgcQ38mHS",
        "colab_type": "code",
        "colab": {}
      },
      "source": [
        "aug = []\n",
        "n = 1\n",
        "aug.append(A.Compose([A.InvertImg(p=1)]))\n",
        "aug_img = [aug[i](image=img) for i in range(n)]\n",
        "\n",
        "fig, ax = plt.subplots(1, 1+n, figsize=(5+5*n, 5))\n",
        "plt.subplots_adjust(wspace=0)\n",
        "plt.rcParams[\"font.size\"] = 18\n",
        "[ax[i].tick_params(bottom=False, left=False, right=False, top=False, labelbottom=False, labelleft=False, labelright=False, labeltop=False) for i in range(1+n)]\n",
        "\n",
        "ax[0].set_xlabel(\"Original\")\n",
        "ax[1].set_xlabel(\"Default Augmentation\")\n",
        "\n",
        "ax[0].imshow(img)\n",
        "[ax[i+1].imshow(aug_img[i]['image']) for i in range(n)]"
      ],
      "execution_count": null,
      "outputs": []
    },
    {
      "cell_type": "markdown",
      "metadata": {
        "id": "d8qXeIof84XT",
        "colab_type": "text"
      },
      "source": [
        "## Normalize\n",
        "### Divide pixel values by 255 = 2**8 - 1, subtract mean per channel and divide by std per channel.\n",
        "### 画素値を255で除算→チャンネルごとの平均値を減算→チャンネルごとの標準偏差で除算（平均値と標準偏差は単なるパラメータに過ぎず内部で暗黙に計算されない）\n",
        "* mean: mean values (平均値), Dafault: (0.485, 0.456, 0.406)\n",
        "* std: std values (標準偏差), Dafault: (0.229, 0.224, 0.225)\n",
        "* max_pixel_value: maximum possible pixel value (画素値の最大値), Dafault: 255.0\n"
      ]
    },
    {
      "cell_type": "code",
      "metadata": {
        "id": "wpn30h8w_to_",
        "colab_type": "code",
        "colab": {}
      },
      "source": [
        "r_mean, g_mean, b_mean = img[0].flatten().mean()/255.0, img[1].flatten().mean()/255.0, img[2].flatten().mean()/255.0\n",
        "r_std, g_std, b_std = np.std(img[0])/255.0, np.std(img[1])/255.0, np.std(img[2])/255.0\n",
        "print('mean:', r_mean, g_mean, b_mean)\n",
        "print('std:', r_std, g_std, b_std)"
      ],
      "execution_count": null,
      "outputs": []
    },
    {
      "cell_type": "code",
      "metadata": {
        "id": "QksxsuHL912K",
        "colab_type": "code",
        "colab": {}
      },
      "source": [
        "aug = []\n",
        "n = 3\n",
        "param1_1 = r_mean, g_mean, b_mean\n",
        "param1_2 = r_std, g_std, b_std\n",
        "param2 = (0.5, 0.5, 0.5)\n",
        "aug.append(A.Compose([A.Normalize(p=1)]))\n",
        "aug.append(A.Compose([A.Normalize(mean=param1_1, std=param1_2, p=1)]))\n",
        "aug.append(A.Compose([A.Normalize(std=param2, p=1)]))\n",
        "aug_img = [aug[i](image=img) for i in range(n)]\n",
        "\n",
        "fig, ax = plt.subplots(1, 1+n, figsize=(5+5*n, 5))\n",
        "plt.subplots_adjust(wspace=0)\n",
        "plt.rcParams[\"font.size\"] = 18\n",
        "[ax[i].tick_params(bottom=False, left=False, right=False, top=False, labelbottom=False, labelleft=False, labelright=False, labeltop=False) for i in range(1+n)]\n",
        "\n",
        "ax[0].set_xlabel(\"Original\")\n",
        "ax[1].set_xlabel(\"Default Augmentation\")\n",
        "ax[2].set_xlabel(\"Properly calc mean and std\")\n",
        "ax[3].set_xlabel(\"std={}\".format(param2))\n",
        "\n",
        "ax[0].imshow(img)\n",
        "[ax[i+1].imshow(aug_img[i]['image']) for i in range(n)]"
      ],
      "execution_count": null,
      "outputs": []
    },
    {
      "cell_type": "markdown",
      "metadata": {
        "id": "Vv_9H2ydJoWA",
        "colab_type": "text"
      },
      "source": [
        "## RandomGamma\n",
        "### Randomly apply a gamma.\n",
        "### ランダムにガンマ変換をかける\n",
        "* gamma_limit:  If gamma_limit is a single float value, the range will be (-gamma_limit, gamma_limit). (1つの場合、範囲は(-gamma_limit, gamma_limit)となる), Default: (80, 120)."
      ]
    },
    {
      "cell_type": "code",
      "metadata": {
        "id": "c9zgmkWrJlD1",
        "colab_type": "code",
        "colab": {}
      },
      "source": [
        "aug = []\n",
        "n = 3\n",
        "param1 = (50.0, 50.0)\n",
        "param2 = (150.0, 150.0)\n",
        "aug.append(A.Compose([A.RandomGamma(p=1)]))\n",
        "aug.append(A.Compose([A.RandomGamma(gamma_limit=param1, p=1)]))\n",
        "aug.append(A.Compose([A.RandomGamma(gamma_limit=param2, p=1)]))\n",
        "aug_img = [aug[i](image=img) for i in range(n)]\n",
        "\n",
        "fig, ax = plt.subplots(1, 1+n, figsize=(5+5*n, 5))\n",
        "plt.subplots_adjust(wspace=0)\n",
        "plt.rcParams[\"font.size\"] = 18\n",
        "[ax[i].tick_params(bottom=False, left=False, right=False, top=False, labelbottom=False, labelleft=False, labelright=False, labeltop=False) for i in range(1+n)]\n",
        "\n",
        "ax[0].set_xlabel(\"Original\")\n",
        "ax[1].set_xlabel(\"Default Augmentation\")\n",
        "ax[2].set_xlabel(\"gamma_limit={}\".format(param1))\n",
        "ax[3].set_xlabel(\"gamma_limit={}\".format(param2))\n",
        "\n",
        "ax[0].imshow(img)\n",
        "[ax[i+1].imshow(aug_img[i]['image']) for i in range(n)]"
      ],
      "execution_count": null,
      "outputs": []
    },
    {
      "cell_type": "markdown",
      "metadata": {
        "id": "0Skak_cRfyRm",
        "colab_type": "text"
      },
      "source": [
        "## RandomBrightness\n",
        "### Randomly change brightness of the input image.\n",
        "### ランダムに明るさを変える\n",
        "* limit ((float, float) or float) – factor range for changing brightness. If limit is a single float, the range will be (-limit, limit). Default: (-0.2, 0.2).\n",
        " * 明るさの変化範囲"
      ]
    },
    {
      "cell_type": "code",
      "metadata": {
        "id": "iMKKhyBOgTBL",
        "colab_type": "code",
        "colab": {}
      },
      "source": [
        "aug = []\n",
        "n = 3\n",
        "param1 = (-0.4, -0.5)\n",
        "param2 = (0.4, 0.5)\n",
        "aug.append(A.Compose([A.RandomBrightness(p=1)]))\n",
        "aug.append(A.Compose([A.RandomBrightness(limit=param1, p=1)]))\n",
        "aug.append(A.Compose([A.RandomBrightness(limit=param2, p=1)]))\n",
        "aug_img = [aug[i](image=img) for i in range(n)]\n",
        "\n",
        "fig, ax = plt.subplots(1, 1+n, figsize=(5+5*n, 5))\n",
        "plt.subplots_adjust(wspace=0)\n",
        "plt.rcParams[\"font.size\"] = 18\n",
        "[ax[i].tick_params(bottom=False, left=False, right=False, top=False, labelbottom=False, labelleft=False, labelright=False, labeltop=False) for i in range(1+n)]\n",
        "\n",
        "ax[0].set_xlabel(\"Original\")\n",
        "ax[1].set_xlabel(\"Default Augmentation\")\n",
        "ax[2].set_xlabel(\"limit={}\".format(param1))\n",
        "ax[3].set_xlabel(\"limit={}\".format(param2))\n",
        "\n",
        "ax[0].imshow(img)\n",
        "[ax[i+1].imshow(aug_img[i]['image']) for i in range(n)]"
      ],
      "execution_count": null,
      "outputs": []
    },
    {
      "cell_type": "markdown",
      "metadata": {
        "id": "gK9O6RjMgrfl",
        "colab_type": "text"
      },
      "source": [
        "## RandomContrast\n",
        "### Randomly change contrast of the input image.\n",
        "### ランダムにコントラストを変える\n",
        "* limit ((float, float) or float) – factor range for changing contrast. If limit is a single float, the range will be (-limit, limit). Default: (-0.2, 0.2).\n",
        " * コントラストの変化範囲"
      ]
    },
    {
      "cell_type": "code",
      "metadata": {
        "id": "FaPaoM8dg8yX",
        "colab_type": "code",
        "colab": {}
      },
      "source": [
        "aug = []\n",
        "n = 3\n",
        "param1 = (-0.4, -0.5)\n",
        "param2 = (0.4, 0.5)\n",
        "aug.append(A.Compose([A.RandomContrast(p=1)]))\n",
        "aug.append(A.Compose([A.RandomContrast(limit=param1, p=1)]))\n",
        "aug.append(A.Compose([A.RandomContrast(limit=param2, p=1)]))\n",
        "aug_img = [aug[i](image=img) for i in range(n)]\n",
        "\n",
        "fig, ax = plt.subplots(1, 1+n, figsize=(5+5*n, 5))\n",
        "plt.subplots_adjust(wspace=0)\n",
        "plt.rcParams[\"font.size\"] = 18\n",
        "[ax[i].tick_params(bottom=False, left=False, right=False, top=False, labelbottom=False, labelleft=False, labelright=False, labeltop=False) for i in range(1+n)]\n",
        "\n",
        "ax[0].set_xlabel(\"Original\")\n",
        "ax[1].set_xlabel(\"Default Augmentation\")\n",
        "ax[2].set_xlabel(\"limit={}\".format(param1))\n",
        "ax[3].set_xlabel(\"limit={}\".format(param2))\n",
        "\n",
        "ax[0].imshow(img)\n",
        "[ax[i+1].imshow(aug_img[i]['image']) for i in range(n)]"
      ],
      "execution_count": null,
      "outputs": []
    },
    {
      "cell_type": "markdown",
      "metadata": {
        "id": "25NqG0gGSdFu",
        "colab_type": "text"
      },
      "source": [
        "## RandomBrightnessContrast\n",
        "### Randomly change brightness and contrast of the input image.\n",
        "### ランダムに明るさとコントラストを変える\n",
        "* brightness_limit ((float, float) or float) – factor range for changing brightness. If limit is a single float, the range will be (-limit, limit). Default: (-0.2, 0.2).\n",
        " - 明るさの変化範囲\n",
        "* contrast_limit ((float, float) or float) – factor range for changing contrast. If limit is a single float, the range will be (-limit, limit). Default: (-0.2, 0.2).\n",
        " - コントラストの変化範囲\n",
        "* brightness_by_max (Boolean) – If True adjust contrast by image dtype maximum, else adjust contrast by image mean. Default: True.\n",
        " - コントラストの調整方法"
      ]
    },
    {
      "cell_type": "code",
      "metadata": {
        "id": "ZP7KKgkvSM5v",
        "colab_type": "code",
        "colab": {}
      },
      "source": [
        "aug = []\n",
        "n = 3\n",
        "param1 = (0.4, 0.5)\n",
        "param2 = (0.4, 0.5)\n",
        "aug.append(A.Compose([A.RandomBrightnessContrast(p=1)]))\n",
        "aug.append(A.Compose([A.RandomBrightnessContrast(brightness_limit=param1, p=1)]))\n",
        "aug.append(A.Compose([A.RandomBrightnessContrast(contrast_limit=param2, p=1)]))\n",
        "aug_img = [aug[i](image=img) for i in range(n)]\n",
        "\n",
        "fig, ax = plt.subplots(1, 1+n, figsize=(5+5*n, 5))\n",
        "plt.subplots_adjust(wspace=0)\n",
        "plt.rcParams[\"font.size\"] = 18\n",
        "[ax[i].tick_params(bottom=False, left=False, right=False, top=False, labelbottom=False, labelleft=False, labelright=False, labeltop=False) for i in range(1+n)]\n",
        "\n",
        "ax[0].set_xlabel(\"Original\")\n",
        "ax[1].set_xlabel(\"Default Augmentation\")\n",
        "ax[2].set_xlabel(\"brightness_limit={}\".format(param1))\n",
        "ax[3].set_xlabel(\"contrast_limit={}\".format(param2))\n",
        "\n",
        "ax[0].imshow(img)\n",
        "[ax[i+1].imshow(aug_img[i]['image']) for i in range(n)]"
      ],
      "execution_count": null,
      "outputs": []
    },
    {
      "cell_type": "markdown",
      "metadata": {
        "id": "m5NvzJk4rKmI",
        "colab_type": "text"
      },
      "source": [
        "## CLAHE\n",
        "### Apply Contrast Limited Adaptive Histogram Equalization to the input image.\n",
        "### コントラスト制限適応型ヒストグラム均等化\n",
        "* clip_limit (float or (float, float)) – upper threshold value for contrast limiting. If clip_limit is a single float value, the range will be (1, clip_limit). Default: (1, 4).\n",
        " - コントラスト制限の上限閾値\n",
        "* tile_grid_size ((int, int)) – size of grid for histogram equalization. Default: (8, 8).\n",
        " - ヒストグラム均等化のためのグリッドサイズ\n"
      ]
    },
    {
      "cell_type": "code",
      "metadata": {
        "id": "7vaaV_jaiEUF",
        "colab_type": "code",
        "colab": {}
      },
      "source": [
        "aug = []\n",
        "n = 3\n",
        "param1 = 1.0\n",
        "param2 = (64, 64)\n",
        "aug.append(A.Compose([A.CLAHE(p=1)]))\n",
        "aug.append(A.Compose([A.CLAHE(clip_limit=param1, p=1)]))\n",
        "aug.append(A.Compose([A.CLAHE(tile_grid_size=param2, p=1)]))\n",
        "aug_img = [aug[i](image=img) for i in range(n)]\n",
        "\n",
        "fig, ax = plt.subplots(1, 1+n, figsize=(5+5*n, 5))\n",
        "plt.subplots_adjust(wspace=0)\n",
        "plt.rcParams[\"font.size\"] = 18\n",
        "[ax[i].tick_params(bottom=False, left=False, right=False, top=False, labelbottom=False, labelleft=False, labelright=False, labeltop=False) for i in range(1+n)]\n",
        "\n",
        "ax[0].set_xlabel(\"Original\")\n",
        "ax[1].set_xlabel(\"Default Augmentation\")\n",
        "ax[2].set_xlabel(\"clip_limit={}\".format(param1))\n",
        "ax[3].set_xlabel(\"tile_grid_size={}\".format(param2))\n",
        "\n",
        "ax[0].imshow(img)\n",
        "[ax[i+1].imshow(aug_img[i]['image']) for i in range(n)]"
      ],
      "execution_count": null,
      "outputs": []
    },
    {
      "cell_type": "markdown",
      "metadata": {
        "id": "oNouVfNr1oK9",
        "colab_type": "text"
      },
      "source": [
        "## Solarize\n",
        "### Invert all pixel values above a threshold.\n",
        "### 閾値以上の画素値を反転させる（ソラリ）\n",
        "* threshold ((int, int) or int, or (float, float) or float) – range for solarizing threshold. threshold is a single value, the range will be [threshold, threshold] Default: 128"
      ]
    },
    {
      "cell_type": "code",
      "metadata": {
        "id": "gB6jn5MV1EkF",
        "colab_type": "code",
        "colab": {}
      },
      "source": [
        "aug = []\n",
        "n = 3\n",
        "param1 = 64\n",
        "param2 = 196\n",
        "aug.append(A.Compose([A.Solarize(p=1)]))\n",
        "aug.append(A.Compose([A.Solarize(threshold=param1, p=1)]))\n",
        "aug.append(A.Compose([A.Solarize(threshold=param2, p=1)]))\n",
        "aug_img = [aug[i](image=img) for i in range(n)]\n",
        "\n",
        "fig, ax = plt.subplots(1, 1+n, figsize=(5+5*n, 5))\n",
        "plt.subplots_adjust(wspace=0)\n",
        "plt.rcParams[\"font.size\"] = 18\n",
        "[ax[i].tick_params(bottom=False, left=False, right=False, top=False, labelbottom=False, labelleft=False, labelright=False, labeltop=False) for i in range(1+n)]\n",
        "\n",
        "ax[0].set_xlabel(\"Original\")\n",
        "ax[1].set_xlabel(\"Default Augmentation\")\n",
        "ax[2].set_xlabel(\"threshold={}\".format(param1))\n",
        "ax[3].set_xlabel(\"threshold={}\".format(param2))\n",
        "\n",
        "ax[0].imshow(img)\n",
        "[ax[i+1].imshow(aug_img[i]['image']) for i in range(n)]"
      ],
      "execution_count": null,
      "outputs": []
    },
    {
      "cell_type": "markdown",
      "metadata": {
        "id": "76xjAZgSAPnO",
        "colab_type": "text"
      },
      "source": [
        "# Dropout系"
      ]
    },
    {
      "cell_type": "markdown",
      "metadata": {
        "id": "jJRUEKyIAnEw",
        "colab_type": "text"
      },
      "source": [
        "## Cutout\n",
        "### CoarseDropout of the square regions in the image.\n",
        "### 矩形領域の粗いDropout\n",
        "* num_holes (int) – number of regions to zero out. Defalt: 8.\n",
        " - ゼロに落とす領域数\n",
        "* max_h_size (int) – maximum height of the hole. Defalt: 8.\n",
        " - 領域の最大高さ\n",
        "* max_w_size (int) – maximum width of the hole. Defalt: 8.\n",
        " - 領域の最大幅\n",
        "* fill_value (int, float, lisf of int, list of float). Defalt: 0.\n",
        " - 落とした領域の画素値"
      ]
    },
    {
      "cell_type": "code",
      "metadata": {
        "id": "Mtaq4lOX_wk1",
        "colab_type": "code",
        "colab": {}
      },
      "source": [
        "aug = []\n",
        "n = 3\n",
        "param1 = 100\n",
        "param2 = (200, [255,0,0])\n",
        "aug.append(A.Compose([A.Cutout(p=1)]))\n",
        "aug.append(A.Compose([A.Cutout(max_h_size=param1, p=1)]))\n",
        "aug.append(A.Compose([A.Cutout(num_holes=param2[0], fill_value=param2[1], p=1)]))\n",
        "aug_img = [aug[i](image=img) for i in range(n)]\n",
        "\n",
        "fig, ax = plt.subplots(1, 1+n, figsize=(5+5*n, 5))\n",
        "plt.subplots_adjust(wspace=0)\n",
        "plt.rcParams[\"font.size\"] = 18\n",
        "[ax[i].tick_params(bottom=False, left=False, right=False, top=False, labelbottom=False, labelleft=False, labelright=False, labeltop=False) for i in range(1+n)]\n",
        "\n",
        "ax[0].set_xlabel(\"Original\")\n",
        "ax[1].set_xlabel(\"Default Augmentation\")\n",
        "ax[2].set_xlabel(\"max_h_size={}\".format(param1))\n",
        "ax[3].set_xlabel(\"num_holes={}, fill_value={}\".format(param2[0], param2[1]))\n",
        "\n",
        "ax[0].imshow(img)\n",
        "[ax[i+1].imshow(aug_img[i]['image']) for i in range(n)]"
      ],
      "execution_count": null,
      "outputs": []
    },
    {
      "cell_type": "markdown",
      "metadata": {
        "id": "fqasPFG7C2zX",
        "colab_type": "text"
      },
      "source": [
        "## CoarseDropout\n",
        "### CoarseDropout of the rectangular regions in the image.\n",
        "### 矩形領域の粗いDropout（最小値も指定可能）\n",
        "* max_holes (int) – Maximum number of regions to zero out..\n",
        " - ゼロに落とす領域数の最大数\n",
        "* max_height (int) – Maximum height of the hole. Defalt: 8.\n",
        " - 領域の最大高さ\n",
        "* max_width (int) – Maximum width of the hole. Defalt: 8.\n",
        " - 領域の最大幅\n",
        "* min_holes (int) – Minimum number of regions to zero out. If None, min_holes is be set to max_holes. Default: None.\n",
        " - ゼロに落とす領域数の再小数\n",
        "* min_height (int) – Minimum height of the hole. Default: None. If None, * min_height is set to max_height. Default: None.\n",
        " - 領域の最小高さ\n",
        "* min_width – Minimum width of the hole. If None, min_height is set to max_width. Default: None.\n",
        " - 領域の最小幅\n",
        "* fill_value (int, float, lisf of int, list of float). Defalt: 0.\n",
        " - 落とした領域の画素値"
      ]
    },
    {
      "cell_type": "code",
      "metadata": {
        "id": "GkZ6eDQoCzHH",
        "colab_type": "code",
        "colab": {}
      },
      "source": [
        "aug = []\n",
        "n = 3\n",
        "param1 = 50\n",
        "param2 = (400, [0,255,0])\n",
        "aug.append(A.Compose([A.CoarseDropout(p=1)]))\n",
        "aug.append(A.Compose([A.CoarseDropout(max_height=param1, max_width=param1, p=1)]))\n",
        "aug.append(A.Compose([A.CoarseDropout(max_holes=param2[0], p=1)]))\n",
        "aug_img = [aug[i](image=img) for i in range(n)]\n",
        "\n",
        "fig, ax = plt.subplots(1, 1+n, figsize=(5+5*n, 5))\n",
        "plt.subplots_adjust(wspace=0)\n",
        "plt.rcParams[\"font.size\"] = 18\n",
        "[ax[i].tick_params(bottom=False, left=False, right=False, top=False, labelbottom=False, labelleft=False, labelright=False, labeltop=False) for i in range(1+n)]\n",
        "\n",
        "ax[0].set_xlabel(\"Original\")\n",
        "ax[1].set_xlabel(\"Default Augmentation\")\n",
        "ax[2].set_xlabel(\"max_height&width={}\".format(param1))\n",
        "ax[3].set_xlabel(\"num_holes={}\".format(param2[0]))\n",
        "\n",
        "ax[0].imshow(img)\n",
        "[ax[i+1].imshow(aug_img[i]['image']) for i in range(n)]"
      ],
      "execution_count": null,
      "outputs": []
    },
    {
      "cell_type": "markdown",
      "metadata": {
        "id": "pbpKQOLsAZ5O",
        "colab_type": "text"
      },
      "source": [
        "# 天候変化・環境・光学再現系"
      ]
    },
    {
      "cell_type": "markdown",
      "metadata": {
        "id": "bTwRpKKQUQ8w",
        "colab_type": "text"
      },
      "source": [
        "## RandomSnow\n",
        "### Bleach out some pixel values simulating snow.\n",
        "### 雪をシミュレートする\n",
        "* snow_point_lower (float) – lower_bond of the amount of snow. Should be in [0, 1] range. Default: 0.1.\n",
        " - 雪の下限値\n",
        "* snow_point_upper (float) – upper_bond of the amount of snow. Should be in [0, 1] range. Default: 0.3.\n",
        " - 雪の上限値\n",
        "* brightness_coeff (float) – larger number will lead to a more snow on the image. Should be >= 0. Default: 2.5.\n",
        " - 大きいと雪が多くなる"
      ]
    },
    {
      "cell_type": "code",
      "metadata": {
        "id": "G-beIZB-UNX6",
        "colab_type": "code",
        "colab": {}
      },
      "source": [
        "aug = []\n",
        "n = 3\n",
        "param1 = (0.4, 0.5)\n",
        "param2 = 5\n",
        "aug.append(A.Compose([A.RandomSnow(p=1)]))\n",
        "aug.append(A.Compose([A.RandomSnow(snow_point_lower=param1[0], snow_point_upper=param1[1], p=1)]))\n",
        "aug.append(A.Compose([A.RandomSnow(brightness_coeff=param2, p=1)]))\n",
        "aug_img = [aug[i](image=img) for i in range(n)]\n",
        "\n",
        "fig, ax = plt.subplots(1, 1+n, figsize=(5+5*n, 5))\n",
        "plt.subplots_adjust(wspace=0)\n",
        "plt.rcParams[\"font.size\"] = 18\n",
        "[ax[i].tick_params(bottom=False, left=False, right=False, top=False, labelbottom=False, labelleft=False, labelright=False, labeltop=False) for i in range(1+n)]\n",
        "\n",
        "ax[0].set_xlabel(\"Original\")\n",
        "ax[1].set_xlabel(\"Default Augmentation\")\n",
        "ax[2].set_xlabel(\"snow_point_lower/upper={}\".format(param1))\n",
        "ax[3].set_xlabel(\"brightness_coeff={}\".format(param2))\n",
        "\n",
        "ax[0].imshow(img)\n",
        "[ax[i+1].imshow(aug_img[i]['image']) for i in range(n)]"
      ],
      "execution_count": null,
      "outputs": []
    },
    {
      "cell_type": "markdown",
      "metadata": {
        "id": "wIqopzBAkI-a",
        "colab_type": "text"
      },
      "source": [
        "## RandomRain\n",
        "### Adds rain effects.\n",
        "### 雨のエフェクト\n",
        "* slant_lower – should be in range [-20, 20]. Default: -10.\n",
        "* slant_upper – should be in range [-20, 20]. Default: 10.\n",
        "* drop_length – should be in range [0, 100]. Default: 20.\n",
        "* drop_width – should be in range [1, 5]. Default: 1.\n",
        "* drop_color (list of (r, g, b)) – rain lines color. Default: (200, 200, 200),.\n",
        " - 雨線の色\n",
        "* blur_value (int) – rainy view are blurry. Default: 7.\n",
        " - 雨粒のブラー\n",
        "* brightness_coefficient (float) – rainy days are usually shady. Should be in  range [0, 1]. Default: 0.7.\n",
        " - 明るさ\n",
        "* rain_type – One of [None, “drizzle”, “heavy”, “torrestial”]. Default: None.\n",
        " - 雨のタイプ\n"
      ]
    },
    {
      "cell_type": "code",
      "metadata": {
        "id": "p2bPw8lNTWqe",
        "colab_type": "code",
        "colab": {}
      },
      "source": [
        "aug = []\n",
        "n = 3\n",
        "param1 = \"heavy\"\n",
        "param2 = \"torrential\"\n",
        "aug.append(A.Compose([A.RandomRain(p=1)]))\n",
        "aug.append(A.Compose([A.RandomRain(rain_type=param1, p=1)]))\n",
        "aug.append(A.Compose([A.RandomRain(rain_type=param2, p=1)]))\n",
        "aug_img = [aug[i](image=img) for i in range(n)]\n",
        "\n",
        "fig, ax = plt.subplots(1, 1+n, figsize=(5+5*n, 5))\n",
        "plt.subplots_adjust(wspace=0)\n",
        "plt.rcParams[\"font.size\"] = 18\n",
        "[ax[i].tick_params(bottom=False, left=False, right=False, top=False, labelbottom=False, labelleft=False, labelright=False, labeltop=False) for i in range(1+n)]\n",
        "\n",
        "ax[0].set_xlabel(\"Original\")\n",
        "ax[1].set_xlabel(\"Default Augmentation\")\n",
        "ax[2].set_xlabel(\"rain_type={}\".format(param1))\n",
        "ax[3].set_xlabel(\"rain_type={}\".format(param2))\n",
        "\n",
        "ax[0].imshow(img)\n",
        "[ax[i+1].imshow(aug_img[i]['image']) for i in range(n)]"
      ],
      "execution_count": null,
      "outputs": []
    },
    {
      "cell_type": "markdown",
      "metadata": {
        "id": "mGEvpYBMx54v",
        "colab_type": "text"
      },
      "source": [
        "## RandomFog\n",
        "### Simulates fog for the image\n",
        "### 霧をシミュレートする\n",
        "* fog_coef_lower (float) – lower limit for fog intensity coefficient. Should be in [0, 1] range.\n",
        " - 霧の強度の下限\n",
        "* fog_coef_upper (float) – upper limit for fog intensity coefficient. Should be in [0, 1] range.\n",
        " - 霧の強度の上限"
      ]
    },
    {
      "cell_type": "code",
      "metadata": {
        "id": "vL9l-93ZlOhB",
        "colab_type": "code",
        "colab": {}
      },
      "source": [
        "aug = []\n",
        "n = 3\n",
        "param1 = (0.2, 0.2)\n",
        "param2 = (0.8, 0.8)\n",
        "aug.append(A.Compose([A.RandomFog(p=1)]))\n",
        "aug.append(A.Compose([A.RandomFog(fog_coef_lower=param1[0], fog_coef_upper=param1[1], p=1)]))\n",
        "aug.append(A.Compose([A.RandomFog(fog_coef_lower=param2[0], fog_coef_upper=param2[1], p=1)]))\n",
        "aug_img = [aug[i](image=img) for i in range(n)]\n",
        "\n",
        "fig, ax = plt.subplots(1, 1+n, figsize=(5+5*n, 5))\n",
        "plt.subplots_adjust(wspace=0)\n",
        "plt.rcParams[\"font.size\"] = 18\n",
        "[ax[i].tick_params(bottom=False, left=False, right=False, top=False, labelbottom=False, labelleft=False, labelright=False, labeltop=False) for i in range(1+n)]\n",
        "\n",
        "ax[0].set_xlabel(\"Original\")\n",
        "ax[1].set_xlabel(\"Default Augmentation\")\n",
        "ax[2].set_xlabel(\"fog_coef={}\".format(param1))\n",
        "ax[3].set_xlabel(\"fog_coef={}\".format(param2))\n",
        "\n",
        "ax[0].imshow(img)\n",
        "[ax[i+1].imshow(aug_img[i]['image']) for i in range(n)]"
      ],
      "execution_count": null,
      "outputs": []
    },
    {
      "cell_type": "markdown",
      "metadata": {
        "id": "rNlxUigtzIGQ",
        "colab_type": "text"
      },
      "source": [
        "## RandomSunFlare\n",
        "### Simulates Sun Flare for the image\n",
        "### 太陽フレアをシミュレートする\n",
        "* flare_roi (float, float, float, float) – region of the image where flare will appear (x_min, y_min, x_max, y_max). All values should be in range [0, 1].\n",
        "* angle_lower (float) – should be in range [0, angle_upper].\n",
        "* angle_upper (float) – should be in range [angle_lower, 1].\n",
        "* num_flare_circles_lower (int) – lower limit for the number of flare circles. Should be in range [0, num_flare_circles_upper].\n",
        "* num_flare_circles_upper (int) – upper limit for the number of flare circles. Should be in range [num_flare_circles_lower, inf].\n",
        "* src_radius (int) –\n",
        "* src_color ((int, int, int)) – color of the flare\n"
      ]
    },
    {
      "cell_type": "code",
      "metadata": {
        "id": "-Ib83_wkyvhS",
        "colab_type": "code",
        "colab": {}
      },
      "source": [
        "aug = []\n",
        "n = 3\n",
        "aug.append(A.Compose([A.RandomSunFlare(p=1)]))\n",
        "aug.append(A.Compose([A.RandomSunFlare(p=1)]))\n",
        "aug.append(A.Compose([A.RandomSunFlare(p=1)]))\n",
        "aug_img = [aug[i](image=img) for i in range(n)]\n",
        "\n",
        "fig, ax = plt.subplots(1, 1+n, figsize=(5+5*n, 5))\n",
        "plt.subplots_adjust(wspace=0)\n",
        "plt.rcParams[\"font.size\"] = 18\n",
        "[ax[i].tick_params(bottom=False, left=False, right=False, top=False, labelbottom=False, labelleft=False, labelright=False, labeltop=False) for i in range(1+n)]\n",
        "\n",
        "ax[0].set_xlabel(\"Original\")\n",
        "ax[1].set_xlabel(\"Default Augmentation 1\")\n",
        "ax[2].set_xlabel(\"Default Augmentation 2\")\n",
        "ax[3].set_xlabel(\"Default Augmentation 3\")\n",
        "\n",
        "ax[0].imshow(img)\n",
        "[ax[i+1].imshow(aug_img[i]['image']) for i in range(n)]"
      ],
      "execution_count": null,
      "outputs": []
    },
    {
      "cell_type": "markdown",
      "metadata": {
        "id": "xGMvpX7V0EQK",
        "colab_type": "text"
      },
      "source": [
        "## RandomShadow\n",
        "### Simulates shadows for the image\n",
        "### 影をシミュレートする\n",
        "* shadow_roi (float, float, float, float) – region of the image where shadows will appear (x_min, y_min, x_max, y_max). All values should be in range [0, 1].\n",
        "* num_shadows_lower (int) – Lower limit for the possible number of shadows. Should be in range [0, num_shadows_upper].\n",
        "* num_shadows_upper (int) – Lower limit for the possible number of shadows. Should be in range [num_shadows_lower, inf].\n",
        "* shadow_dimension (int) – number of edges in the shadow polygons"
      ]
    },
    {
      "cell_type": "code",
      "metadata": {
        "id": "AjiSm7aOz91a",
        "colab_type": "code",
        "colab": {}
      },
      "source": [
        "aug = []\n",
        "n = 3\n",
        "aug.append(A.Compose([A.RandomShadow(p=1)]))\n",
        "aug.append(A.Compose([A.RandomShadow(p=1)]))\n",
        "aug.append(A.Compose([A.RandomShadow(p=1)]))\n",
        "aug_img = [aug[i](image=img) for i in range(n)]\n",
        "\n",
        "fig, ax = plt.subplots(1, 1+n, figsize=(5+5*n, 5))\n",
        "plt.subplots_adjust(wspace=0)\n",
        "plt.rcParams[\"font.size\"] = 18\n",
        "[ax[i].tick_params(bottom=False, left=False, right=False, top=False, labelbottom=False, labelleft=False, labelright=False, labeltop=False) for i in range(1+n)]\n",
        "\n",
        "ax[0].set_xlabel(\"Original\")\n",
        "ax[1].set_xlabel(\"Default Augmentation 1\")\n",
        "ax[2].set_xlabel(\"Default Augmentation 2\")\n",
        "ax[3].set_xlabel(\"Default Augmentation 3\")\n",
        "\n",
        "ax[0].imshow(img)\n",
        "[ax[i+1].imshow(aug_img[i]['image']) for i in range(n)]"
      ],
      "execution_count": null,
      "outputs": []
    },
    {
      "cell_type": "markdown",
      "metadata": {
        "id": "0K1OnynMA1Wl",
        "colab_type": "text"
      },
      "source": [
        "# 他"
      ]
    },
    {
      "cell_type": "markdown",
      "metadata": {
        "id": "QWLneux55W8z",
        "colab_type": "text"
      },
      "source": [
        "## FancyPCA\n",
        "### Augment RGB image using FancyPCA\n",
        "### FancyPCAでの拡張\n",
        "* alpha (float) – how much to perturb/scale the eigen vecs and vals. scale is samples from gaussian distribution (mu=0, sigma=alpha)"
      ]
    },
    {
      "cell_type": "code",
      "metadata": {
        "id": "AXCaIXkk5jG7",
        "colab_type": "code",
        "colab": {}
      },
      "source": [
        "aug = []\n",
        "n = 3\n",
        "param1 = 2.0\n",
        "param2 = 5.0\n",
        "aug.append(A.Compose([A.FancyPCA(p=1)]))\n",
        "aug.append(A.Compose([A.FancyPCA(alpha=param1, p=1)]))\n",
        "aug.append(A.Compose([A.FancyPCA(alpha=param2, p=1)]))\n",
        "aug_img = [aug[i](image=img) for i in range(n)]\n",
        "\n",
        "fig, ax = plt.subplots(1, 1+n, figsize=(5+5*n, 5))\n",
        "plt.subplots_adjust(wspace=0)\n",
        "plt.rcParams[\"font.size\"] = 18\n",
        "[ax[i].tick_params(bottom=False, left=False, right=False, top=False, labelbottom=False, labelleft=False, labelright=False, labeltop=False) for i in range(1+n)]\n",
        "\n",
        "ax[0].set_xlabel(\"Original\")\n",
        "ax[1].set_xlabel(\"Default Augmentation\")\n",
        "ax[2].set_xlabel(\"alpha={}\".format(param1))\n",
        "ax[3].set_xlabel(\"alpha={}\".format(param2))\n",
        "\n",
        "ax[0].imshow(img)\n",
        "[ax[i+1].imshow(aug_img[i]['image']) for i in range(n)]"
      ],
      "execution_count": null,
      "outputs": []
    },
    {
      "cell_type": "markdown",
      "metadata": {
        "id": "3hwKrVr19zf6",
        "colab_type": "text"
      },
      "source": [
        "## PadIfNeeded\n",
        "### Pad side of the image / max if side is less than desired number.\n",
        "### 所望の解像度にするために画像端をパディングする\n",
        "* min_height (int) – minimal result image height. Default: 1024.\n",
        " * 画像高さの最小値\n",
        "* min_width (int) – minimal result image width. Default: 1024.\n",
        " * 画像幅の最小値"
      ]
    },
    {
      "cell_type": "code",
      "metadata": {
        "id": "ji04yWTw9y0s",
        "colab_type": "code",
        "colab": {}
      },
      "source": [
        "aug = []\n",
        "n = 3\n",
        "param1 = (900, 700)\n",
        "param2 = (500, 800)\n",
        "aug.append(A.Compose([A.PadIfNeeded(p=1)]))\n",
        "aug.append(A.Compose([A.PadIfNeeded(min_height=param1[0], min_width=param1[1], p=1)]))\n",
        "aug.append(A.Compose([A.PadIfNeeded(min_height=param2[0], min_width=param2[1], p=1)]))\n",
        "aug_img = [aug[i](image=img) for i in range(n)]\n",
        "\n",
        "fig, ax = plt.subplots(1, 1+n, figsize=(5+5*n, 5))\n",
        "plt.subplots_adjust(wspace=0)\n",
        "plt.rcParams[\"font.size\"] = 18\n",
        "[ax[i].tick_params(bottom=False, left=False, right=False, top=False, labelbottom=False, labelleft=False, labelright=False, labeltop=False) for i in range(1+n)]\n",
        "\n",
        "ax[0].set_xlabel(\"Original\")\n",
        "ax[1].set_xlabel(\"Default Augmentation\")\n",
        "ax[2].set_xlabel(\"min_height, min_width={}\".format(param1))\n",
        "ax[3].set_xlabel(\"min_height, min_width={}\".format(param2))\n",
        "\n",
        "ax[0].imshow(img)\n",
        "[ax[i+1].imshow(aug_img[i]['image']) for i in range(n)]"
      ],
      "execution_count": null,
      "outputs": []
    },
    {
      "cell_type": "markdown",
      "metadata": {
        "id": "jSmXZNIWKo0L",
        "colab_type": "text"
      },
      "source": [
        "## LongestMaxSize\n",
        "### Rescale an image so that maximum side is equal to max_size, keeping the aspect ratio of the initial image.\n",
        "### アスペクト比を維持したまま、最大辺がmax_sizeと等しくなるように画像をリスケールする"
      ]
    }
  ]
}